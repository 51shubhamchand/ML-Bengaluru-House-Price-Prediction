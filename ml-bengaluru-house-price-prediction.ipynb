{
 "cells": [
  {
   "cell_type": "code",
   "execution_count": 1,
   "id": "7fb4beee",
   "metadata": {
    "_cell_guid": "b1076dfc-b9ad-4769-8c92-a6c4dae69d19",
    "_uuid": "8f2839f25d086af736a60e9eeb907d3b93b6e0e5",
    "execution": {
     "iopub.execute_input": "2022-09-22T21:51:26.237263Z",
     "iopub.status.busy": "2022-09-22T21:51:26.236083Z",
     "iopub.status.idle": "2022-09-22T21:51:26.265167Z",
     "shell.execute_reply": "2022-09-22T21:51:26.264118Z"
    },
    "papermill": {
     "duration": 0.04792,
     "end_time": "2022-09-22T21:51:26.268175",
     "exception": false,
     "start_time": "2022-09-22T21:51:26.220255",
     "status": "completed"
    },
    "tags": []
   },
   "outputs": [
    {
     "name": "stdout",
     "output_type": "stream",
     "text": [
      "/kaggle/input/bengaluru-house-price-data/Bengaluru_House_Data.csv\n"
     ]
    }
   ],
   "source": [
    "# This Python 3 environment comes with many helpful analytics libraries installed\n",
    "# It is defined by the kaggle/python Docker image: https://github.com/kaggle/docker-python\n",
    "# For example, here's several helpful packages to load\n",
    "\n",
    "import numpy as np # linear algebra\n",
    "import pandas as pd # data processing, CSV file I/O (e.g. pd.read_csv)\n",
    "\n",
    "# Input data files are available in the read-only \"../input/\" directory\n",
    "# For example, running this (by clicking run or pressing Shift+Enter) will list all files under the input directory\n",
    "\n",
    "import os\n",
    "for dirname, _, filenames in os.walk('/kaggle/input'):\n",
    "    for filename in filenames:\n",
    "        print(os.path.join(dirname, filename))\n",
    "\n",
    "# You can write up to 20GB to the current directory (/kaggle/working/) that gets preserved as output when you create a version using \"Save & Run All\" \n",
    "# You can also write temporary files to /kaggle/temp/, but they won't be saved outside of the current session"
   ]
  },
  {
   "cell_type": "markdown",
   "id": "56510ac3",
   "metadata": {
    "papermill": {
     "duration": 0.011368,
     "end_time": "2022-09-22T21:51:26.292002",
     "exception": false,
     "start_time": "2022-09-22T21:51:26.280634",
     "status": "completed"
    },
    "tags": []
   },
   "source": [
    "# Extract Data"
   ]
  },
  {
   "cell_type": "code",
   "execution_count": 2,
   "id": "22ef1e29",
   "metadata": {
    "execution": {
     "iopub.execute_input": "2022-09-22T21:51:26.317186Z",
     "iopub.status.busy": "2022-09-22T21:51:26.316761Z",
     "iopub.status.idle": "2022-09-22T21:51:26.395892Z",
     "shell.execute_reply": "2022-09-22T21:51:26.394336Z"
    },
    "papermill": {
     "duration": 0.094957,
     "end_time": "2022-09-22T21:51:26.398629",
     "exception": false,
     "start_time": "2022-09-22T21:51:26.303672",
     "status": "completed"
    },
    "tags": []
   },
   "outputs": [
    {
     "data": {
      "text/html": [
       "<div>\n",
       "<style scoped>\n",
       "    .dataframe tbody tr th:only-of-type {\n",
       "        vertical-align: middle;\n",
       "    }\n",
       "\n",
       "    .dataframe tbody tr th {\n",
       "        vertical-align: top;\n",
       "    }\n",
       "\n",
       "    .dataframe thead th {\n",
       "        text-align: right;\n",
       "    }\n",
       "</style>\n",
       "<table border=\"1\" class=\"dataframe\">\n",
       "  <thead>\n",
       "    <tr style=\"text-align: right;\">\n",
       "      <th></th>\n",
       "      <th>area_type</th>\n",
       "      <th>availability</th>\n",
       "      <th>location</th>\n",
       "      <th>size</th>\n",
       "      <th>society</th>\n",
       "      <th>total_sqft</th>\n",
       "      <th>bath</th>\n",
       "      <th>balcony</th>\n",
       "      <th>price</th>\n",
       "    </tr>\n",
       "  </thead>\n",
       "  <tbody>\n",
       "    <tr>\n",
       "      <th>0</th>\n",
       "      <td>Super built-up  Area</td>\n",
       "      <td>19-Dec</td>\n",
       "      <td>Electronic City Phase II</td>\n",
       "      <td>2 BHK</td>\n",
       "      <td>Coomee</td>\n",
       "      <td>1056</td>\n",
       "      <td>2.0</td>\n",
       "      <td>1.0</td>\n",
       "      <td>39.07</td>\n",
       "    </tr>\n",
       "    <tr>\n",
       "      <th>1</th>\n",
       "      <td>Plot  Area</td>\n",
       "      <td>Ready To Move</td>\n",
       "      <td>Chikka Tirupathi</td>\n",
       "      <td>4 Bedroom</td>\n",
       "      <td>Theanmp</td>\n",
       "      <td>2600</td>\n",
       "      <td>5.0</td>\n",
       "      <td>3.0</td>\n",
       "      <td>120.00</td>\n",
       "    </tr>\n",
       "    <tr>\n",
       "      <th>2</th>\n",
       "      <td>Built-up  Area</td>\n",
       "      <td>Ready To Move</td>\n",
       "      <td>Uttarahalli</td>\n",
       "      <td>3 BHK</td>\n",
       "      <td>NaN</td>\n",
       "      <td>1440</td>\n",
       "      <td>2.0</td>\n",
       "      <td>3.0</td>\n",
       "      <td>62.00</td>\n",
       "    </tr>\n",
       "    <tr>\n",
       "      <th>3</th>\n",
       "      <td>Super built-up  Area</td>\n",
       "      <td>Ready To Move</td>\n",
       "      <td>Lingadheeranahalli</td>\n",
       "      <td>3 BHK</td>\n",
       "      <td>Soiewre</td>\n",
       "      <td>1521</td>\n",
       "      <td>3.0</td>\n",
       "      <td>1.0</td>\n",
       "      <td>95.00</td>\n",
       "    </tr>\n",
       "    <tr>\n",
       "      <th>4</th>\n",
       "      <td>Super built-up  Area</td>\n",
       "      <td>Ready To Move</td>\n",
       "      <td>Kothanur</td>\n",
       "      <td>2 BHK</td>\n",
       "      <td>NaN</td>\n",
       "      <td>1200</td>\n",
       "      <td>2.0</td>\n",
       "      <td>1.0</td>\n",
       "      <td>51.00</td>\n",
       "    </tr>\n",
       "  </tbody>\n",
       "</table>\n",
       "</div>"
      ],
      "text/plain": [
       "              area_type   availability                  location       size  \\\n",
       "0  Super built-up  Area         19-Dec  Electronic City Phase II      2 BHK   \n",
       "1            Plot  Area  Ready To Move          Chikka Tirupathi  4 Bedroom   \n",
       "2        Built-up  Area  Ready To Move               Uttarahalli      3 BHK   \n",
       "3  Super built-up  Area  Ready To Move        Lingadheeranahalli      3 BHK   \n",
       "4  Super built-up  Area  Ready To Move                  Kothanur      2 BHK   \n",
       "\n",
       "   society total_sqft  bath  balcony   price  \n",
       "0  Coomee        1056   2.0      1.0   39.07  \n",
       "1  Theanmp       2600   5.0      3.0  120.00  \n",
       "2      NaN       1440   2.0      3.0   62.00  \n",
       "3  Soiewre       1521   3.0      1.0   95.00  \n",
       "4      NaN       1200   2.0      1.0   51.00  "
      ]
     },
     "execution_count": 2,
     "metadata": {},
     "output_type": "execute_result"
    }
   ],
   "source": [
    "data = pd.read_csv(\"/kaggle/input/bengaluru-house-price-data/Bengaluru_House_Data.csv\")\n",
    "data.head()"
   ]
  },
  {
   "cell_type": "code",
   "execution_count": 3,
   "id": "585276d7",
   "metadata": {
    "execution": {
     "iopub.execute_input": "2022-09-22T21:51:26.426869Z",
     "iopub.status.busy": "2022-09-22T21:51:26.425784Z",
     "iopub.status.idle": "2022-09-22T21:51:26.474698Z",
     "shell.execute_reply": "2022-09-22T21:51:26.473785Z"
    },
    "papermill": {
     "duration": 0.064495,
     "end_time": "2022-09-22T21:51:26.476982",
     "exception": false,
     "start_time": "2022-09-22T21:51:26.412487",
     "status": "completed"
    },
    "tags": []
   },
   "outputs": [
    {
     "name": "stdout",
     "output_type": "stream",
     "text": [
      "(13320, 9)\n",
      "<class 'pandas.core.frame.DataFrame'>\n",
      "RangeIndex: 13320 entries, 0 to 13319\n",
      "Data columns (total 9 columns):\n",
      " #   Column        Non-Null Count  Dtype  \n",
      "---  ------        --------------  -----  \n",
      " 0   area_type     13320 non-null  object \n",
      " 1   availability  13320 non-null  object \n",
      " 2   location      13319 non-null  object \n",
      " 3   size          13304 non-null  object \n",
      " 4   society       7818 non-null   object \n",
      " 5   total_sqft    13320 non-null  object \n",
      " 6   bath          13247 non-null  float64\n",
      " 7   balcony       12711 non-null  float64\n",
      " 8   price         13320 non-null  float64\n",
      "dtypes: float64(3), object(6)\n",
      "memory usage: 936.7+ KB\n",
      "None\n",
      "               bath       balcony         price\n",
      "count  13247.000000  12711.000000  13320.000000\n",
      "mean       2.692610      1.584376    112.565627\n",
      "std        1.341458      0.817263    148.971674\n",
      "min        1.000000      0.000000      8.000000\n",
      "25%        2.000000      1.000000     50.000000\n",
      "50%        2.000000      2.000000     72.000000\n",
      "75%        3.000000      2.000000    120.000000\n",
      "max       40.000000      3.000000   3600.000000\n"
     ]
    }
   ],
   "source": [
    "print(data.shape)\n",
    "print(data.info())\n",
    "print(data.describe())"
   ]
  },
  {
   "cell_type": "markdown",
   "id": "f443e234",
   "metadata": {
    "papermill": {
     "duration": 0.011991,
     "end_time": "2022-09-22T21:51:26.501707",
     "exception": false,
     "start_time": "2022-09-22T21:51:26.489716",
     "status": "completed"
    },
    "tags": []
   },
   "source": [
    "# Check for unique values"
   ]
  },
  {
   "cell_type": "code",
   "execution_count": 4,
   "id": "e3aa5b4f",
   "metadata": {
    "execution": {
     "iopub.execute_input": "2022-09-22T21:51:26.528681Z",
     "iopub.status.busy": "2022-09-22T21:51:26.528040Z",
     "iopub.status.idle": "2022-09-22T21:51:26.592230Z",
     "shell.execute_reply": "2022-09-22T21:51:26.590557Z"
    },
    "papermill": {
     "duration": 0.080934,
     "end_time": "2022-09-22T21:51:26.594785",
     "exception": false,
     "start_time": "2022-09-22T21:51:26.513851",
     "status": "completed"
    },
    "tags": []
   },
   "outputs": [
    {
     "name": "stdout",
     "output_type": "stream",
     "text": [
      "area_type  >>  ['Built-up  Area' 'Carpet  Area' 'Plot  Area' 'Super built-up  Area']\n",
      " \n",
      "availability  >>  ['14-Jul' '14-Nov' '15-Aug' '15-Dec' '15-Jun' '15-Nov' '15-Oct' '16-Dec'\n",
      " '16-Jan' '16-Jul' '16-Mar' '16-Nov' '16-Oct' '16-Sep' '17-Apr' '17-Aug'\n",
      " '17-Dec' '17-Feb' '17-Jan' '17-Jul' '17-Jun' '17-Mar' '17-May' '17-Nov'\n",
      " '17-Oct' '17-Sep' '18-Apr' '18-Aug' '18-Dec' '18-Feb' '18-Jan' '18-Jul'\n",
      " '18-Jun' '18-Mar' '18-May' '18-Nov' '18-Oct' '18-Sep' '19-Apr' '19-Aug'\n",
      " '19-Dec' '19-Feb' '19-Jan' '19-Jul' '19-Jun' '19-Mar' '19-May' '19-Nov'\n",
      " '19-Oct' '19-Sep' '20-Apr' '20-Aug' '20-Dec' '20-Feb' '20-Jan' '20-Jul'\n",
      " '20-Jun' '20-Mar' '20-May' '20-Nov' '20-Oct' '20-Sep' '21-Aug' '21-Dec'\n",
      " '21-Feb' '21-Jan' '21-Jul' '21-Jun' '21-Mar' '21-May' '21-Nov' '21-Oct'\n",
      " '21-Sep' '22-Dec' '22-Jan' '22-Jun' '22-Mar' '22-May' '22-Nov'\n",
      " 'Immediate Possession' 'Ready To Move']\n",
      " \n",
      "location  >>  [' Anekal' ' Banaswadi' ' Basavangudi' ... 'white field,kadugodi'\n",
      " 'whitefiled' nan]\n",
      " \n",
      "size  >>  ['1 BHK' '1 Bedroom' '1 RK' '10 BHK' '10 Bedroom' '11 BHK' '11 Bedroom'\n",
      " '12 Bedroom' '13 BHK' '14 BHK' '16 BHK' '18 Bedroom' '19 BHK' '2 BHK'\n",
      " '2 Bedroom' '27 BHK' '3 BHK' '3 Bedroom' '4 BHK' '4 Bedroom' '43 Bedroom'\n",
      " '5 BHK' '5 Bedroom' '6 BHK' '6 Bedroom' '7 BHK' '7 Bedroom' '8 BHK'\n",
      " '8 Bedroom' '9 BHK' '9 Bedroom' nan]\n",
      " \n",
      "society  >>  ['3Codeli' '7 ise P' 'A idse ' ... 'i1odsne' 'i1rtsCo' nan]\n",
      " \n",
      "total_sqft  >>  ['1' '1.25Acres' '1.26Acres' ... '997' '998' '999']\n",
      " \n",
      "bath  >>  [ 1.  2.  3.  4.  5.  6.  7.  8.  9. 10. 11. 12. 13. 14. 15. 16. 18. 27.\n",
      " 40. nan]\n",
      " \n",
      "balcony  >>  [ 0.  1.  2.  3. nan]\n",
      " \n",
      "price  >>  [   8.      8.44    9.   ... 2800.   2912.   3600.  ]\n",
      " \n"
     ]
    }
   ],
   "source": [
    "for i in data.columns:\n",
    "    print(i , \" >> \", data[i].sort_values().unique())\n",
    "    print(\" \")"
   ]
  },
  {
   "cell_type": "code",
   "execution_count": 5,
   "id": "9931eab8",
   "metadata": {
    "execution": {
     "iopub.execute_input": "2022-09-22T21:51:26.622140Z",
     "iopub.status.busy": "2022-09-22T21:51:26.621291Z",
     "iopub.status.idle": "2022-09-22T21:51:26.642491Z",
     "shell.execute_reply": "2022-09-22T21:51:26.641226Z"
    },
    "papermill": {
     "duration": 0.037443,
     "end_time": "2022-09-22T21:51:26.644815",
     "exception": false,
     "start_time": "2022-09-22T21:51:26.607372",
     "status": "completed"
    },
    "tags": []
   },
   "outputs": [
    {
     "name": "stdout",
     "output_type": "stream",
     "text": [
      "       area_type   availability     location        size society total_sqft  \\\n",
      "4684  Plot  Area  Ready To Move  Munnekollal  43 Bedroom     NaN       2400   \n",
      "\n",
      "      bath  balcony  price  \n",
      "4684  40.0      0.0  660.0  \n",
      "       area_type   availability     location        size society total_sqft  \\\n",
      "4684  Plot  Area  Ready To Move  Munnekollal  43 Bedroom     NaN       2400   \n",
      "\n",
      "      bath  balcony  price  \n",
      "4684  40.0      0.0  660.0  \n"
     ]
    }
   ],
   "source": [
    "# 43 Bedroom\n",
    "print(data[data['size']=='43 Bedroom'])\n",
    "\n",
    "# 40 bathroom\n",
    "print(data[data['bath']==40])\n",
    "\n",
    "# Drop this data\n",
    "data=data[data['bath']!=40]"
   ]
  },
  {
   "cell_type": "code",
   "execution_count": 6,
   "id": "0e375ecd",
   "metadata": {
    "execution": {
     "iopub.execute_input": "2022-09-22T21:51:26.672401Z",
     "iopub.status.busy": "2022-09-22T21:51:26.671363Z",
     "iopub.status.idle": "2022-09-22T21:51:26.700830Z",
     "shell.execute_reply": "2022-09-22T21:51:26.699561Z"
    },
    "papermill": {
     "duration": 0.046109,
     "end_time": "2022-09-22T21:51:26.703592",
     "exception": false,
     "start_time": "2022-09-22T21:51:26.657483",
     "status": "completed"
    },
    "tags": []
   },
   "outputs": [
    {
     "data": {
      "text/html": [
       "<div>\n",
       "<style scoped>\n",
       "    .dataframe tbody tr th:only-of-type {\n",
       "        vertical-align: middle;\n",
       "    }\n",
       "\n",
       "    .dataframe tbody tr th {\n",
       "        vertical-align: top;\n",
       "    }\n",
       "\n",
       "    .dataframe thead th {\n",
       "        text-align: right;\n",
       "    }\n",
       "</style>\n",
       "<table border=\"1\" class=\"dataframe\">\n",
       "  <thead>\n",
       "    <tr style=\"text-align: right;\">\n",
       "      <th></th>\n",
       "      <th>area_type</th>\n",
       "      <th>availability</th>\n",
       "      <th>location</th>\n",
       "      <th>size</th>\n",
       "      <th>society</th>\n",
       "      <th>total_sqft</th>\n",
       "      <th>bath</th>\n",
       "      <th>balcony</th>\n",
       "      <th>price</th>\n",
       "    </tr>\n",
       "  </thead>\n",
       "  <tbody>\n",
       "    <tr>\n",
       "      <th>2</th>\n",
       "      <td>Built-up  Area</td>\n",
       "      <td>Ready To Move</td>\n",
       "      <td>Uttarahalli</td>\n",
       "      <td>3 BHK</td>\n",
       "      <td>NaN</td>\n",
       "      <td>1440</td>\n",
       "      <td>2.0</td>\n",
       "      <td>3.0</td>\n",
       "      <td>62.00</td>\n",
       "    </tr>\n",
       "    <tr>\n",
       "      <th>4</th>\n",
       "      <td>Super built-up  Area</td>\n",
       "      <td>Ready To Move</td>\n",
       "      <td>Kothanur</td>\n",
       "      <td>2 BHK</td>\n",
       "      <td>NaN</td>\n",
       "      <td>1200</td>\n",
       "      <td>2.0</td>\n",
       "      <td>1.0</td>\n",
       "      <td>51.00</td>\n",
       "    </tr>\n",
       "    <tr>\n",
       "      <th>8</th>\n",
       "      <td>Super built-up  Area</td>\n",
       "      <td>Ready To Move</td>\n",
       "      <td>Marathahalli</td>\n",
       "      <td>3 BHK</td>\n",
       "      <td>NaN</td>\n",
       "      <td>1310</td>\n",
       "      <td>3.0</td>\n",
       "      <td>1.0</td>\n",
       "      <td>63.25</td>\n",
       "    </tr>\n",
       "    <tr>\n",
       "      <th>9</th>\n",
       "      <td>Plot  Area</td>\n",
       "      <td>Ready To Move</td>\n",
       "      <td>Gandhi Bazar</td>\n",
       "      <td>6 Bedroom</td>\n",
       "      <td>NaN</td>\n",
       "      <td>1020</td>\n",
       "      <td>6.0</td>\n",
       "      <td>NaN</td>\n",
       "      <td>370.00</td>\n",
       "    </tr>\n",
       "    <tr>\n",
       "      <th>10</th>\n",
       "      <td>Super built-up  Area</td>\n",
       "      <td>18-Feb</td>\n",
       "      <td>Whitefield</td>\n",
       "      <td>3 BHK</td>\n",
       "      <td>NaN</td>\n",
       "      <td>1800</td>\n",
       "      <td>2.0</td>\n",
       "      <td>2.0</td>\n",
       "      <td>70.00</td>\n",
       "    </tr>\n",
       "    <tr>\n",
       "      <th>...</th>\n",
       "      <td>...</td>\n",
       "      <td>...</td>\n",
       "      <td>...</td>\n",
       "      <td>...</td>\n",
       "      <td>...</td>\n",
       "      <td>...</td>\n",
       "      <td>...</td>\n",
       "      <td>...</td>\n",
       "      <td>...</td>\n",
       "    </tr>\n",
       "    <tr>\n",
       "      <th>13310</th>\n",
       "      <td>Super built-up  Area</td>\n",
       "      <td>Ready To Move</td>\n",
       "      <td>Rachenahalli</td>\n",
       "      <td>2 BHK</td>\n",
       "      <td>NaN</td>\n",
       "      <td>1050</td>\n",
       "      <td>2.0</td>\n",
       "      <td>2.0</td>\n",
       "      <td>52.71</td>\n",
       "    </tr>\n",
       "    <tr>\n",
       "      <th>13311</th>\n",
       "      <td>Plot  Area</td>\n",
       "      <td>Ready To Move</td>\n",
       "      <td>Ramamurthy Nagar</td>\n",
       "      <td>7 Bedroom</td>\n",
       "      <td>NaN</td>\n",
       "      <td>1500</td>\n",
       "      <td>9.0</td>\n",
       "      <td>2.0</td>\n",
       "      <td>250.00</td>\n",
       "    </tr>\n",
       "    <tr>\n",
       "      <th>13312</th>\n",
       "      <td>Super built-up  Area</td>\n",
       "      <td>Ready To Move</td>\n",
       "      <td>Bellandur</td>\n",
       "      <td>2 BHK</td>\n",
       "      <td>NaN</td>\n",
       "      <td>1262</td>\n",
       "      <td>2.0</td>\n",
       "      <td>2.0</td>\n",
       "      <td>47.00</td>\n",
       "    </tr>\n",
       "    <tr>\n",
       "      <th>13316</th>\n",
       "      <td>Super built-up  Area</td>\n",
       "      <td>Ready To Move</td>\n",
       "      <td>Richards Town</td>\n",
       "      <td>4 BHK</td>\n",
       "      <td>NaN</td>\n",
       "      <td>3600</td>\n",
       "      <td>5.0</td>\n",
       "      <td>NaN</td>\n",
       "      <td>400.00</td>\n",
       "    </tr>\n",
       "    <tr>\n",
       "      <th>13319</th>\n",
       "      <td>Super built-up  Area</td>\n",
       "      <td>Ready To Move</td>\n",
       "      <td>Doddathoguru</td>\n",
       "      <td>1 BHK</td>\n",
       "      <td>NaN</td>\n",
       "      <td>550</td>\n",
       "      <td>1.0</td>\n",
       "      <td>1.0</td>\n",
       "      <td>17.00</td>\n",
       "    </tr>\n",
       "  </tbody>\n",
       "</table>\n",
       "<p>5501 rows × 9 columns</p>\n",
       "</div>"
      ],
      "text/plain": [
       "                  area_type   availability          location       size  \\\n",
       "2            Built-up  Area  Ready To Move       Uttarahalli      3 BHK   \n",
       "4      Super built-up  Area  Ready To Move          Kothanur      2 BHK   \n",
       "8      Super built-up  Area  Ready To Move      Marathahalli      3 BHK   \n",
       "9                Plot  Area  Ready To Move      Gandhi Bazar  6 Bedroom   \n",
       "10     Super built-up  Area         18-Feb        Whitefield      3 BHK   \n",
       "...                     ...            ...               ...        ...   \n",
       "13310  Super built-up  Area  Ready To Move      Rachenahalli      2 BHK   \n",
       "13311            Plot  Area  Ready To Move  Ramamurthy Nagar  7 Bedroom   \n",
       "13312  Super built-up  Area  Ready To Move         Bellandur      2 BHK   \n",
       "13316  Super built-up  Area  Ready To Move     Richards Town      4 BHK   \n",
       "13319  Super built-up  Area  Ready To Move      Doddathoguru      1 BHK   \n",
       "\n",
       "      society total_sqft  bath  balcony   price  \n",
       "2         NaN       1440   2.0      3.0   62.00  \n",
       "4         NaN       1200   2.0      1.0   51.00  \n",
       "8         NaN       1310   3.0      1.0   63.25  \n",
       "9         NaN       1020   6.0      NaN  370.00  \n",
       "10        NaN       1800   2.0      2.0   70.00  \n",
       "...       ...        ...   ...      ...     ...  \n",
       "13310     NaN       1050   2.0      2.0   52.71  \n",
       "13311     NaN       1500   9.0      2.0  250.00  \n",
       "13312     NaN       1262   2.0      2.0   47.00  \n",
       "13316     NaN       3600   5.0      NaN  400.00  \n",
       "13319     NaN        550   1.0      1.0   17.00  \n",
       "\n",
       "[5501 rows x 9 columns]"
      ]
     },
     "metadata": {},
     "output_type": "display_data"
    }
   ],
   "source": [
    "# NaN society\n",
    "display(data[data['society'].isnull()])\n",
    "\n",
    "# Society having NaN should be considered a different group as they can be independent house.\n",
    "data['society']=data['society'].fillna('Independent')\n",
    "\n",
    "# Now we are dividing society into two groups : Society and Independent\n",
    "data['society']=data['society'].apply(lambda x : 'Independent' if x == 'Independent' else 'Society')"
   ]
  },
  {
   "cell_type": "code",
   "execution_count": 7,
   "id": "ba2779f5",
   "metadata": {
    "execution": {
     "iopub.execute_input": "2022-09-22T21:51:26.730900Z",
     "iopub.status.busy": "2022-09-22T21:51:26.730474Z",
     "iopub.status.idle": "2022-09-22T21:51:26.755695Z",
     "shell.execute_reply": "2022-09-22T21:51:26.754409Z"
    },
    "papermill": {
     "duration": 0.041844,
     "end_time": "2022-09-22T21:51:26.758227",
     "exception": false,
     "start_time": "2022-09-22T21:51:26.716383",
     "status": "completed"
    },
    "tags": []
   },
   "outputs": [
    {
     "data": {
      "text/html": [
       "<div>\n",
       "<style scoped>\n",
       "    .dataframe tbody tr th:only-of-type {\n",
       "        vertical-align: middle;\n",
       "    }\n",
       "\n",
       "    .dataframe tbody tr th {\n",
       "        vertical-align: top;\n",
       "    }\n",
       "\n",
       "    .dataframe thead th {\n",
       "        text-align: right;\n",
       "    }\n",
       "</style>\n",
       "<table border=\"1\" class=\"dataframe\">\n",
       "  <thead>\n",
       "    <tr style=\"text-align: right;\">\n",
       "      <th></th>\n",
       "      <th>area_type</th>\n",
       "      <th>availability</th>\n",
       "      <th>location</th>\n",
       "      <th>size</th>\n",
       "      <th>society</th>\n",
       "      <th>total_sqft</th>\n",
       "      <th>bath</th>\n",
       "      <th>balcony</th>\n",
       "      <th>price</th>\n",
       "    </tr>\n",
       "  </thead>\n",
       "  <tbody>\n",
       "    <tr>\n",
       "      <th>0</th>\n",
       "      <td>Super built-up  Area</td>\n",
       "      <td>19-Dec</td>\n",
       "      <td>Electronic City Phase II</td>\n",
       "      <td>2 BHK</td>\n",
       "      <td>Society</td>\n",
       "      <td>1056</td>\n",
       "      <td>2.0</td>\n",
       "      <td>1.0</td>\n",
       "      <td>39.07</td>\n",
       "    </tr>\n",
       "    <tr>\n",
       "      <th>1</th>\n",
       "      <td>Plot  Area</td>\n",
       "      <td>Ready To Move</td>\n",
       "      <td>Chikka Tirupathi</td>\n",
       "      <td>4 Bedroom</td>\n",
       "      <td>Society</td>\n",
       "      <td>2600</td>\n",
       "      <td>5.0</td>\n",
       "      <td>3.0</td>\n",
       "      <td>120.00</td>\n",
       "    </tr>\n",
       "    <tr>\n",
       "      <th>2</th>\n",
       "      <td>Built-up  Area</td>\n",
       "      <td>Ready To Move</td>\n",
       "      <td>Uttarahalli</td>\n",
       "      <td>3 BHK</td>\n",
       "      <td>Independent</td>\n",
       "      <td>1440</td>\n",
       "      <td>2.0</td>\n",
       "      <td>3.0</td>\n",
       "      <td>62.00</td>\n",
       "    </tr>\n",
       "    <tr>\n",
       "      <th>3</th>\n",
       "      <td>Super built-up  Area</td>\n",
       "      <td>Ready To Move</td>\n",
       "      <td>Lingadheeranahalli</td>\n",
       "      <td>3 BHK</td>\n",
       "      <td>Society</td>\n",
       "      <td>1521</td>\n",
       "      <td>3.0</td>\n",
       "      <td>1.0</td>\n",
       "      <td>95.00</td>\n",
       "    </tr>\n",
       "    <tr>\n",
       "      <th>4</th>\n",
       "      <td>Super built-up  Area</td>\n",
       "      <td>Ready To Move</td>\n",
       "      <td>Kothanur</td>\n",
       "      <td>2 BHK</td>\n",
       "      <td>Independent</td>\n",
       "      <td>1200</td>\n",
       "      <td>2.0</td>\n",
       "      <td>1.0</td>\n",
       "      <td>51.00</td>\n",
       "    </tr>\n",
       "    <tr>\n",
       "      <th>...</th>\n",
       "      <td>...</td>\n",
       "      <td>...</td>\n",
       "      <td>...</td>\n",
       "      <td>...</td>\n",
       "      <td>...</td>\n",
       "      <td>...</td>\n",
       "      <td>...</td>\n",
       "      <td>...</td>\n",
       "      <td>...</td>\n",
       "    </tr>\n",
       "    <tr>\n",
       "      <th>13315</th>\n",
       "      <td>Built-up  Area</td>\n",
       "      <td>Ready To Move</td>\n",
       "      <td>Whitefield</td>\n",
       "      <td>5 Bedroom</td>\n",
       "      <td>Society</td>\n",
       "      <td>3453</td>\n",
       "      <td>4.0</td>\n",
       "      <td>0.0</td>\n",
       "      <td>231.00</td>\n",
       "    </tr>\n",
       "    <tr>\n",
       "      <th>13316</th>\n",
       "      <td>Super built-up  Area</td>\n",
       "      <td>Ready To Move</td>\n",
       "      <td>Richards Town</td>\n",
       "      <td>4 BHK</td>\n",
       "      <td>Independent</td>\n",
       "      <td>3600</td>\n",
       "      <td>5.0</td>\n",
       "      <td>NaN</td>\n",
       "      <td>400.00</td>\n",
       "    </tr>\n",
       "    <tr>\n",
       "      <th>13317</th>\n",
       "      <td>Built-up  Area</td>\n",
       "      <td>Ready To Move</td>\n",
       "      <td>Raja Rajeshwari Nagar</td>\n",
       "      <td>2 BHK</td>\n",
       "      <td>Society</td>\n",
       "      <td>1141</td>\n",
       "      <td>2.0</td>\n",
       "      <td>1.0</td>\n",
       "      <td>60.00</td>\n",
       "    </tr>\n",
       "    <tr>\n",
       "      <th>13318</th>\n",
       "      <td>Super built-up  Area</td>\n",
       "      <td>18-Jun</td>\n",
       "      <td>Padmanabhanagar</td>\n",
       "      <td>4 BHK</td>\n",
       "      <td>Society</td>\n",
       "      <td>4689</td>\n",
       "      <td>4.0</td>\n",
       "      <td>1.0</td>\n",
       "      <td>488.00</td>\n",
       "    </tr>\n",
       "    <tr>\n",
       "      <th>13319</th>\n",
       "      <td>Super built-up  Area</td>\n",
       "      <td>Ready To Move</td>\n",
       "      <td>Doddathoguru</td>\n",
       "      <td>1 BHK</td>\n",
       "      <td>Independent</td>\n",
       "      <td>550</td>\n",
       "      <td>1.0</td>\n",
       "      <td>1.0</td>\n",
       "      <td>17.00</td>\n",
       "    </tr>\n",
       "  </tbody>\n",
       "</table>\n",
       "<p>13319 rows × 9 columns</p>\n",
       "</div>"
      ],
      "text/plain": [
       "                  area_type   availability                  location  \\\n",
       "0      Super built-up  Area         19-Dec  Electronic City Phase II   \n",
       "1                Plot  Area  Ready To Move          Chikka Tirupathi   \n",
       "2            Built-up  Area  Ready To Move               Uttarahalli   \n",
       "3      Super built-up  Area  Ready To Move        Lingadheeranahalli   \n",
       "4      Super built-up  Area  Ready To Move                  Kothanur   \n",
       "...                     ...            ...                       ...   \n",
       "13315        Built-up  Area  Ready To Move                Whitefield   \n",
       "13316  Super built-up  Area  Ready To Move             Richards Town   \n",
       "13317        Built-up  Area  Ready To Move     Raja Rajeshwari Nagar   \n",
       "13318  Super built-up  Area         18-Jun           Padmanabhanagar   \n",
       "13319  Super built-up  Area  Ready To Move              Doddathoguru   \n",
       "\n",
       "            size      society total_sqft  bath  balcony   price  \n",
       "0          2 BHK      Society       1056   2.0      1.0   39.07  \n",
       "1      4 Bedroom      Society       2600   5.0      3.0  120.00  \n",
       "2          3 BHK  Independent       1440   2.0      3.0   62.00  \n",
       "3          3 BHK      Society       1521   3.0      1.0   95.00  \n",
       "4          2 BHK  Independent       1200   2.0      1.0   51.00  \n",
       "...          ...          ...        ...   ...      ...     ...  \n",
       "13315  5 Bedroom      Society       3453   4.0      0.0  231.00  \n",
       "13316      4 BHK  Independent       3600   5.0      NaN  400.00  \n",
       "13317      2 BHK      Society       1141   2.0      1.0   60.00  \n",
       "13318      4 BHK      Society       4689   4.0      1.0  488.00  \n",
       "13319      1 BHK  Independent        550   1.0      1.0   17.00  \n",
       "\n",
       "[13319 rows x 9 columns]"
      ]
     },
     "execution_count": 7,
     "metadata": {},
     "output_type": "execute_result"
    }
   ],
   "source": [
    "data"
   ]
  },
  {
   "cell_type": "code",
   "execution_count": 8,
   "id": "1e88d195",
   "metadata": {
    "execution": {
     "iopub.execute_input": "2022-09-22T21:51:26.787199Z",
     "iopub.status.busy": "2022-09-22T21:51:26.786272Z",
     "iopub.status.idle": "2022-09-22T21:51:26.979010Z",
     "shell.execute_reply": "2022-09-22T21:51:26.977775Z"
    },
    "papermill": {
     "duration": 0.210761,
     "end_time": "2022-09-22T21:51:26.982309",
     "exception": false,
     "start_time": "2022-09-22T21:51:26.771548",
     "status": "completed"
    },
    "tags": []
   },
   "outputs": [
    {
     "name": "stdout",
     "output_type": "stream",
     "text": [
      "            0\n",
      "0  2021-12-19\n",
      "1  2021-01-01\n",
      "2  2021-01-01\n",
      "3  2021-01-01\n",
      "4  2021-01-01\n"
     ]
    }
   ],
   "source": [
    "# Availability column\n",
    "# Sorting and Encoding Availability column data\n",
    "# Immediate possesion and Read to Move are considered as 0\n",
    "\n",
    "from datetime import datetime\n",
    "new=[]\n",
    "for i in enumerate(data['availability']):\n",
    "    if (i[1]!='Ready To Move') and (i[1]!='Immediate Possession'):\n",
    "        a=i[1][0:2]\n",
    "        b=i[1][3:6]\n",
    "        c=\"2021\"+\"-\"+b+\"-\"+a\n",
    "        new.append(datetime.strptime(c, '%Y-%b-%d').date())\n",
    "    else:\n",
    "        new.append(datetime.strptime(\"2021-Jan-01\", '%Y-%b-%d').date())\n",
    "        \n",
    "ss=pd.DataFrame(new)  \n",
    "\n",
    "print(ss.head())\n",
    "\n",
    "data['new_col']=ss"
   ]
  },
  {
   "cell_type": "code",
   "execution_count": 9,
   "id": "178442f6",
   "metadata": {
    "execution": {
     "iopub.execute_input": "2022-09-22T21:51:27.014041Z",
     "iopub.status.busy": "2022-09-22T21:51:27.013630Z",
     "iopub.status.idle": "2022-09-22T21:51:28.057280Z",
     "shell.execute_reply": "2022-09-22T21:51:28.055427Z"
    },
    "papermill": {
     "duration": 1.062071,
     "end_time": "2022-09-22T21:51:28.059758",
     "exception": false,
     "start_time": "2022-09-22T21:51:26.997687",
     "status": "completed"
    },
    "tags": []
   },
   "outputs": [
    {
     "name": "stderr",
     "output_type": "stream",
     "text": [
      "/opt/conda/lib/python3.7/site-packages/sklearn/preprocessing/_label.py:115: DataConversionWarning: A column-vector y was passed when a 1d array was expected. Please change the shape of y to (n_samples, ), for example using ravel().\n",
      "  y = column_or_1d(y, warn=True)\n"
     ]
    }
   ],
   "source": [
    "from sklearn.preprocessing import LabelEncoder\n",
    "label = LabelEncoder()\n",
    "data['availability']=label.fit_transform(pd.DataFrame(data['new_col'], columns=['new_col']))\n",
    "data=data.drop('new_col', axis=1)"
   ]
  },
  {
   "cell_type": "code",
   "execution_count": 10,
   "id": "cbddc586",
   "metadata": {
    "execution": {
     "iopub.execute_input": "2022-09-22T21:51:28.088814Z",
     "iopub.status.busy": "2022-09-22T21:51:28.087706Z",
     "iopub.status.idle": "2022-09-22T21:51:28.107842Z",
     "shell.execute_reply": "2022-09-22T21:51:28.106579Z"
    },
    "papermill": {
     "duration": 0.037111,
     "end_time": "2022-09-22T21:51:28.110388",
     "exception": false,
     "start_time": "2022-09-22T21:51:28.073277",
     "status": "completed"
    },
    "tags": []
   },
   "outputs": [
    {
     "data": {
      "text/html": [
       "<div>\n",
       "<style scoped>\n",
       "    .dataframe tbody tr th:only-of-type {\n",
       "        vertical-align: middle;\n",
       "    }\n",
       "\n",
       "    .dataframe tbody tr th {\n",
       "        vertical-align: top;\n",
       "    }\n",
       "\n",
       "    .dataframe thead th {\n",
       "        text-align: right;\n",
       "    }\n",
       "</style>\n",
       "<table border=\"1\" class=\"dataframe\">\n",
       "  <thead>\n",
       "    <tr style=\"text-align: right;\">\n",
       "      <th></th>\n",
       "      <th>area_type</th>\n",
       "      <th>availability</th>\n",
       "      <th>location</th>\n",
       "      <th>size</th>\n",
       "      <th>society</th>\n",
       "      <th>total_sqft</th>\n",
       "      <th>bath</th>\n",
       "      <th>balcony</th>\n",
       "      <th>price</th>\n",
       "    </tr>\n",
       "  </thead>\n",
       "  <tbody>\n",
       "    <tr>\n",
       "      <th>0</th>\n",
       "      <td>Super built-up  Area</td>\n",
       "      <td>76</td>\n",
       "      <td>Electronic City Phase II</td>\n",
       "      <td>2 BHK</td>\n",
       "      <td>Society</td>\n",
       "      <td>1056</td>\n",
       "      <td>2.0</td>\n",
       "      <td>1.0</td>\n",
       "      <td>39.07</td>\n",
       "    </tr>\n",
       "    <tr>\n",
       "      <th>1</th>\n",
       "      <td>Plot  Area</td>\n",
       "      <td>0</td>\n",
       "      <td>Chikka Tirupathi</td>\n",
       "      <td>4 Bedroom</td>\n",
       "      <td>Society</td>\n",
       "      <td>2600</td>\n",
       "      <td>5.0</td>\n",
       "      <td>3.0</td>\n",
       "      <td>120.00</td>\n",
       "    </tr>\n",
       "    <tr>\n",
       "      <th>2</th>\n",
       "      <td>Built-up  Area</td>\n",
       "      <td>0</td>\n",
       "      <td>Uttarahalli</td>\n",
       "      <td>3 BHK</td>\n",
       "      <td>Independent</td>\n",
       "      <td>1440</td>\n",
       "      <td>2.0</td>\n",
       "      <td>3.0</td>\n",
       "      <td>62.00</td>\n",
       "    </tr>\n",
       "    <tr>\n",
       "      <th>3</th>\n",
       "      <td>Super built-up  Area</td>\n",
       "      <td>0</td>\n",
       "      <td>Lingadheeranahalli</td>\n",
       "      <td>3 BHK</td>\n",
       "      <td>Society</td>\n",
       "      <td>1521</td>\n",
       "      <td>3.0</td>\n",
       "      <td>1.0</td>\n",
       "      <td>95.00</td>\n",
       "    </tr>\n",
       "    <tr>\n",
       "      <th>4</th>\n",
       "      <td>Super built-up  Area</td>\n",
       "      <td>0</td>\n",
       "      <td>Kothanur</td>\n",
       "      <td>2 BHK</td>\n",
       "      <td>Independent</td>\n",
       "      <td>1200</td>\n",
       "      <td>2.0</td>\n",
       "      <td>1.0</td>\n",
       "      <td>51.00</td>\n",
       "    </tr>\n",
       "    <tr>\n",
       "      <th>5</th>\n",
       "      <td>Super built-up  Area</td>\n",
       "      <td>0</td>\n",
       "      <td>Whitefield</td>\n",
       "      <td>2 BHK</td>\n",
       "      <td>Society</td>\n",
       "      <td>1170</td>\n",
       "      <td>2.0</td>\n",
       "      <td>1.0</td>\n",
       "      <td>38.00</td>\n",
       "    </tr>\n",
       "    <tr>\n",
       "      <th>6</th>\n",
       "      <td>Super built-up  Area</td>\n",
       "      <td>25</td>\n",
       "      <td>Old Airport Road</td>\n",
       "      <td>4 BHK</td>\n",
       "      <td>Society</td>\n",
       "      <td>2732</td>\n",
       "      <td>4.0</td>\n",
       "      <td>NaN</td>\n",
       "      <td>204.00</td>\n",
       "    </tr>\n",
       "    <tr>\n",
       "      <th>7</th>\n",
       "      <td>Super built-up  Area</td>\n",
       "      <td>0</td>\n",
       "      <td>Rajaji Nagar</td>\n",
       "      <td>4 BHK</td>\n",
       "      <td>Society</td>\n",
       "      <td>3300</td>\n",
       "      <td>4.0</td>\n",
       "      <td>NaN</td>\n",
       "      <td>600.00</td>\n",
       "    </tr>\n",
       "    <tr>\n",
       "      <th>8</th>\n",
       "      <td>Super built-up  Area</td>\n",
       "      <td>0</td>\n",
       "      <td>Marathahalli</td>\n",
       "      <td>3 BHK</td>\n",
       "      <td>Independent</td>\n",
       "      <td>1310</td>\n",
       "      <td>3.0</td>\n",
       "      <td>1.0</td>\n",
       "      <td>63.25</td>\n",
       "    </tr>\n",
       "    <tr>\n",
       "      <th>9</th>\n",
       "      <td>Plot  Area</td>\n",
       "      <td>0</td>\n",
       "      <td>Gandhi Bazar</td>\n",
       "      <td>6 Bedroom</td>\n",
       "      <td>Independent</td>\n",
       "      <td>1020</td>\n",
       "      <td>6.0</td>\n",
       "      <td>NaN</td>\n",
       "      <td>370.00</td>\n",
       "    </tr>\n",
       "  </tbody>\n",
       "</table>\n",
       "</div>"
      ],
      "text/plain": [
       "              area_type  availability                  location       size  \\\n",
       "0  Super built-up  Area            76  Electronic City Phase II      2 BHK   \n",
       "1            Plot  Area             0          Chikka Tirupathi  4 Bedroom   \n",
       "2        Built-up  Area             0               Uttarahalli      3 BHK   \n",
       "3  Super built-up  Area             0        Lingadheeranahalli      3 BHK   \n",
       "4  Super built-up  Area             0                  Kothanur      2 BHK   \n",
       "5  Super built-up  Area             0                Whitefield      2 BHK   \n",
       "6  Super built-up  Area            25          Old Airport Road      4 BHK   \n",
       "7  Super built-up  Area             0              Rajaji Nagar      4 BHK   \n",
       "8  Super built-up  Area             0              Marathahalli      3 BHK   \n",
       "9            Plot  Area             0              Gandhi Bazar  6 Bedroom   \n",
       "\n",
       "       society total_sqft  bath  balcony   price  \n",
       "0      Society       1056   2.0      1.0   39.07  \n",
       "1      Society       2600   5.0      3.0  120.00  \n",
       "2  Independent       1440   2.0      3.0   62.00  \n",
       "3      Society       1521   3.0      1.0   95.00  \n",
       "4  Independent       1200   2.0      1.0   51.00  \n",
       "5      Society       1170   2.0      1.0   38.00  \n",
       "6      Society       2732   4.0      NaN  204.00  \n",
       "7      Society       3300   4.0      NaN  600.00  \n",
       "8  Independent       1310   3.0      1.0   63.25  \n",
       "9  Independent       1020   6.0      NaN  370.00  "
      ]
     },
     "execution_count": 10,
     "metadata": {},
     "output_type": "execute_result"
    }
   ],
   "source": [
    "data.head(10)"
   ]
  },
  {
   "cell_type": "code",
   "execution_count": 11,
   "id": "12dc0d9c",
   "metadata": {
    "execution": {
     "iopub.execute_input": "2022-09-22T21:51:28.139022Z",
     "iopub.status.busy": "2022-09-22T21:51:28.138613Z",
     "iopub.status.idle": "2022-09-22T21:51:28.792097Z",
     "shell.execute_reply": "2022-09-22T21:51:28.790965Z"
    },
    "papermill": {
     "duration": 0.670931,
     "end_time": "2022-09-22T21:51:28.794908",
     "exception": false,
     "start_time": "2022-09-22T21:51:28.123977",
     "status": "completed"
    },
    "tags": []
   },
   "outputs": [
    {
     "data": {
      "text/html": [
       "<div>\n",
       "<style scoped>\n",
       "    .dataframe tbody tr th:only-of-type {\n",
       "        vertical-align: middle;\n",
       "    }\n",
       "\n",
       "    .dataframe tbody tr th {\n",
       "        vertical-align: top;\n",
       "    }\n",
       "\n",
       "    .dataframe thead th {\n",
       "        text-align: right;\n",
       "    }\n",
       "</style>\n",
       "<table border=\"1\" class=\"dataframe\">\n",
       "  <thead>\n",
       "    <tr style=\"text-align: right;\">\n",
       "      <th></th>\n",
       "      <th>area_type</th>\n",
       "      <th>availability</th>\n",
       "      <th>location</th>\n",
       "      <th>size</th>\n",
       "      <th>society</th>\n",
       "      <th>total_sqft</th>\n",
       "      <th>bath</th>\n",
       "      <th>balcony</th>\n",
       "      <th>price</th>\n",
       "    </tr>\n",
       "  </thead>\n",
       "  <tbody>\n",
       "    <tr>\n",
       "      <th>0</th>\n",
       "      <td>2</td>\n",
       "      <td>76</td>\n",
       "      <td>Electronic City Phase II</td>\n",
       "      <td>2 BHK</td>\n",
       "      <td>Society</td>\n",
       "      <td>1056</td>\n",
       "      <td>2.0</td>\n",
       "      <td>1.0</td>\n",
       "      <td>39.07</td>\n",
       "    </tr>\n",
       "    <tr>\n",
       "      <th>1</th>\n",
       "      <td>0</td>\n",
       "      <td>0</td>\n",
       "      <td>Chikka Tirupathi</td>\n",
       "      <td>4 Bedroom</td>\n",
       "      <td>Society</td>\n",
       "      <td>2600</td>\n",
       "      <td>5.0</td>\n",
       "      <td>3.0</td>\n",
       "      <td>120.00</td>\n",
       "    </tr>\n",
       "    <tr>\n",
       "      <th>2</th>\n",
       "      <td>1</td>\n",
       "      <td>0</td>\n",
       "      <td>Uttarahalli</td>\n",
       "      <td>3 BHK</td>\n",
       "      <td>Independent</td>\n",
       "      <td>1440</td>\n",
       "      <td>2.0</td>\n",
       "      <td>3.0</td>\n",
       "      <td>62.00</td>\n",
       "    </tr>\n",
       "    <tr>\n",
       "      <th>3</th>\n",
       "      <td>2</td>\n",
       "      <td>0</td>\n",
       "      <td>Lingadheeranahalli</td>\n",
       "      <td>3 BHK</td>\n",
       "      <td>Society</td>\n",
       "      <td>1521</td>\n",
       "      <td>3.0</td>\n",
       "      <td>1.0</td>\n",
       "      <td>95.00</td>\n",
       "    </tr>\n",
       "    <tr>\n",
       "      <th>4</th>\n",
       "      <td>2</td>\n",
       "      <td>0</td>\n",
       "      <td>Kothanur</td>\n",
       "      <td>2 BHK</td>\n",
       "      <td>Independent</td>\n",
       "      <td>1200</td>\n",
       "      <td>2.0</td>\n",
       "      <td>1.0</td>\n",
       "      <td>51.00</td>\n",
       "    </tr>\n",
       "  </tbody>\n",
       "</table>\n",
       "</div>"
      ],
      "text/plain": [
       "   area_type  availability                  location       size      society  \\\n",
       "0          2            76  Electronic City Phase II      2 BHK      Society   \n",
       "1          0             0          Chikka Tirupathi  4 Bedroom      Society   \n",
       "2          1             0               Uttarahalli      3 BHK  Independent   \n",
       "3          2             0        Lingadheeranahalli      3 BHK      Society   \n",
       "4          2             0                  Kothanur      2 BHK  Independent   \n",
       "\n",
       "  total_sqft  bath  balcony   price  \n",
       "0       1056   2.0      1.0   39.07  \n",
       "1       2600   5.0      3.0  120.00  \n",
       "2       1440   2.0      3.0   62.00  \n",
       "3       1521   3.0      1.0   95.00  \n",
       "4       1200   2.0      1.0   51.00  "
      ]
     },
     "metadata": {},
     "output_type": "display_data"
    },
    {
     "data": {
      "image/png": "[encoded data removed]",
      "text/plain": [
       "<Figure size 432x288 with 1 Axes>"
      ]
     },
     "metadata": {
      "needs_background": "light"
     },
     "output_type": "display_data"
    }
   ],
   "source": [
    "# Check area-type wrt price\n",
    "import seaborn as sns\n",
    "sns.barplot(x=data['area_type'], y=data['price'])\n",
    "\n",
    "df=data['area_type'].replace('Plot  Area', 0)\n",
    "df=df.replace('Built-up  Area', 1)\n",
    "df=df.replace('Super built-up  Area', 2)\n",
    "df=df.replace('Carpet  Area', 3)\n",
    "\n",
    "data['area_type']=df\n",
    "\n",
    "display(data.head())"
   ]
  },
  {
   "cell_type": "markdown",
   "id": "a2856115",
   "metadata": {
    "papermill": {
     "duration": 0.014189,
     "end_time": "2022-09-22T21:51:28.823147",
     "exception": false,
     "start_time": "2022-09-22T21:51:28.808958",
     "status": "completed"
    },
    "tags": []
   },
   "source": [
    "# Reducing the Categories in LOCATION"
   ]
  },
  {
   "cell_type": "code",
   "execution_count": 12,
   "id": "3279ca1e",
   "metadata": {
    "execution": {
     "iopub.execute_input": "2022-09-22T21:51:28.853063Z",
     "iopub.status.busy": "2022-09-22T21:51:28.852629Z",
     "iopub.status.idle": "2022-09-22T21:51:28.864545Z",
     "shell.execute_reply": "2022-09-22T21:51:28.863399Z"
    },
    "papermill": {
     "duration": 0.029649,
     "end_time": "2022-09-22T21:51:28.866886",
     "exception": false,
     "start_time": "2022-09-22T21:51:28.837237",
     "status": "completed"
    },
    "tags": []
   },
   "outputs": [
    {
     "data": {
      "text/plain": [
       "Basapura                          10\n",
       "Nagappa Reddy Layout              10\n",
       "Gunjur Palya                      10\n",
       "Dodsworth Layout                  10\n",
       "BTM 1st Stage                     10\n",
       "                                  ..\n",
       "Bapuji Layout                      1\n",
       "1st Stage Radha Krishna Layout     1\n",
       "BEML Layout 5th stage              1\n",
       "singapura paradise                 1\n",
       "Abshot Layout                      1\n",
       "Name: location, Length: 1064, dtype: int64"
      ]
     },
     "execution_count": 12,
     "metadata": {},
     "output_type": "execute_result"
    }
   ],
   "source": [
    "a=data['location'].value_counts()\n",
    "a=a[a<=10]\n",
    "a"
   ]
  },
  {
   "cell_type": "code",
   "execution_count": 13,
   "id": "95e0f1bf",
   "metadata": {
    "execution": {
     "iopub.execute_input": "2022-09-22T21:51:28.897309Z",
     "iopub.status.busy": "2022-09-22T21:51:28.895956Z",
     "iopub.status.idle": "2022-09-22T21:51:28.922234Z",
     "shell.execute_reply": "2022-09-22T21:51:28.921212Z"
    },
    "papermill": {
     "duration": 0.043981,
     "end_time": "2022-09-22T21:51:28.924766",
     "exception": false,
     "start_time": "2022-09-22T21:51:28.880785",
     "status": "completed"
    },
    "tags": []
   },
   "outputs": [
    {
     "data": {
      "text/plain": [
       "0        Electronic City Phase II\n",
       "1                Chikka Tirupathi\n",
       "2                     Uttarahalli\n",
       "3              Lingadheeranahalli\n",
       "4                        Kothanur\n",
       "                   ...           \n",
       "13315                  Whitefield\n",
       "13316                       other\n",
       "13317       Raja Rajeshwari Nagar\n",
       "13318             Padmanabhanagar\n",
       "13319                Doddathoguru\n",
       "Name: location, Length: 13319, dtype: object"
      ]
     },
     "execution_count": 13,
     "metadata": {},
     "output_type": "execute_result"
    }
   ],
   "source": [
    "data['location']=data['location'].apply(lambda x: 'other' if x in a else x)\n",
    "data['location']"
   ]
  },
  {
   "cell_type": "markdown",
   "id": "067354bf",
   "metadata": {
    "papermill": {
     "duration": 0.013899,
     "end_time": "2022-09-22T21:51:28.953006",
     "exception": false,
     "start_time": "2022-09-22T21:51:28.939107",
     "status": "completed"
    },
    "tags": []
   },
   "source": [
    "# Formatting data in SIZE"
   ]
  },
  {
   "cell_type": "code",
   "execution_count": 14,
   "id": "2b63a65e",
   "metadata": {
    "execution": {
     "iopub.execute_input": "2022-09-22T21:51:28.983835Z",
     "iopub.status.busy": "2022-09-22T21:51:28.983059Z",
     "iopub.status.idle": "2022-09-22T21:51:28.991197Z",
     "shell.execute_reply": "2022-09-22T21:51:28.990066Z"
    },
    "papermill": {
     "duration": 0.026467,
     "end_time": "2022-09-22T21:51:28.993930",
     "exception": false,
     "start_time": "2022-09-22T21:51:28.967463",
     "status": "completed"
    },
    "tags": []
   },
   "outputs": [
    {
     "data": {
      "text/plain": [
       "array(['2 BHK', '4 Bedroom', '3 BHK', '4 BHK', '6 Bedroom', '3 Bedroom',\n",
       "       '1 BHK', '1 RK', '1 Bedroom', '8 Bedroom', '2 Bedroom',\n",
       "       '7 Bedroom', '5 BHK', '7 BHK', '6 BHK', '5 Bedroom', '11 BHK',\n",
       "       '9 BHK', nan, '9 Bedroom', '27 BHK', '10 Bedroom', '11 Bedroom',\n",
       "       '10 BHK', '19 BHK', '16 BHK', '14 BHK', '8 BHK', '12 Bedroom',\n",
       "       '13 BHK', '18 Bedroom'], dtype=object)"
      ]
     },
     "execution_count": 14,
     "metadata": {},
     "output_type": "execute_result"
    }
   ],
   "source": [
    "data['size'].unique()"
   ]
  },
  {
   "cell_type": "code",
   "execution_count": 15,
   "id": "65c266ed",
   "metadata": {
    "execution": {
     "iopub.execute_input": "2022-09-22T21:51:29.024792Z",
     "iopub.status.busy": "2022-09-22T21:51:29.024299Z",
     "iopub.status.idle": "2022-09-22T21:51:29.057891Z",
     "shell.execute_reply": "2022-09-22T21:51:29.056550Z"
    },
    "papermill": {
     "duration": 0.05202,
     "end_time": "2022-09-22T21:51:29.060399",
     "exception": false,
     "start_time": "2022-09-22T21:51:29.008379",
     "status": "completed"
    },
    "tags": []
   },
   "outputs": [],
   "source": [
    "a=data['size'].str.split(\" \", expand=True)\n",
    "data['rooms']=a[0].astype(float)\n",
    "data=data.drop('size', axis=1)"
   ]
  },
  {
   "cell_type": "code",
   "execution_count": 16,
   "id": "90b05112",
   "metadata": {
    "execution": {
     "iopub.execute_input": "2022-09-22T21:51:29.091131Z",
     "iopub.status.busy": "2022-09-22T21:51:29.090673Z",
     "iopub.status.idle": "2022-09-22T21:51:29.107899Z",
     "shell.execute_reply": "2022-09-22T21:51:29.106706Z"
    },
    "papermill": {
     "duration": 0.035484,
     "end_time": "2022-09-22T21:51:29.110266",
     "exception": false,
     "start_time": "2022-09-22T21:51:29.074782",
     "status": "completed"
    },
    "tags": []
   },
   "outputs": [
    {
     "data": {
      "text/html": [
       "<div>\n",
       "<style scoped>\n",
       "    .dataframe tbody tr th:only-of-type {\n",
       "        vertical-align: middle;\n",
       "    }\n",
       "\n",
       "    .dataframe tbody tr th {\n",
       "        vertical-align: top;\n",
       "    }\n",
       "\n",
       "    .dataframe thead th {\n",
       "        text-align: right;\n",
       "    }\n",
       "</style>\n",
       "<table border=\"1\" class=\"dataframe\">\n",
       "  <thead>\n",
       "    <tr style=\"text-align: right;\">\n",
       "      <th></th>\n",
       "      <th>area_type</th>\n",
       "      <th>availability</th>\n",
       "      <th>location</th>\n",
       "      <th>society</th>\n",
       "      <th>total_sqft</th>\n",
       "      <th>bath</th>\n",
       "      <th>balcony</th>\n",
       "      <th>price</th>\n",
       "      <th>rooms</th>\n",
       "    </tr>\n",
       "  </thead>\n",
       "  <tbody>\n",
       "    <tr>\n",
       "      <th>0</th>\n",
       "      <td>2</td>\n",
       "      <td>76</td>\n",
       "      <td>Electronic City Phase II</td>\n",
       "      <td>Society</td>\n",
       "      <td>1056</td>\n",
       "      <td>2.0</td>\n",
       "      <td>1.0</td>\n",
       "      <td>39.07</td>\n",
       "      <td>2.0</td>\n",
       "    </tr>\n",
       "    <tr>\n",
       "      <th>1</th>\n",
       "      <td>0</td>\n",
       "      <td>0</td>\n",
       "      <td>Chikka Tirupathi</td>\n",
       "      <td>Society</td>\n",
       "      <td>2600</td>\n",
       "      <td>5.0</td>\n",
       "      <td>3.0</td>\n",
       "      <td>120.00</td>\n",
       "      <td>4.0</td>\n",
       "    </tr>\n",
       "    <tr>\n",
       "      <th>2</th>\n",
       "      <td>1</td>\n",
       "      <td>0</td>\n",
       "      <td>Uttarahalli</td>\n",
       "      <td>Independent</td>\n",
       "      <td>1440</td>\n",
       "      <td>2.0</td>\n",
       "      <td>3.0</td>\n",
       "      <td>62.00</td>\n",
       "      <td>3.0</td>\n",
       "    </tr>\n",
       "    <tr>\n",
       "      <th>3</th>\n",
       "      <td>2</td>\n",
       "      <td>0</td>\n",
       "      <td>Lingadheeranahalli</td>\n",
       "      <td>Society</td>\n",
       "      <td>1521</td>\n",
       "      <td>3.0</td>\n",
       "      <td>1.0</td>\n",
       "      <td>95.00</td>\n",
       "      <td>3.0</td>\n",
       "    </tr>\n",
       "    <tr>\n",
       "      <th>4</th>\n",
       "      <td>2</td>\n",
       "      <td>0</td>\n",
       "      <td>Kothanur</td>\n",
       "      <td>Independent</td>\n",
       "      <td>1200</td>\n",
       "      <td>2.0</td>\n",
       "      <td>1.0</td>\n",
       "      <td>51.00</td>\n",
       "      <td>2.0</td>\n",
       "    </tr>\n",
       "  </tbody>\n",
       "</table>\n",
       "</div>"
      ],
      "text/plain": [
       "   area_type  availability                  location      society total_sqft  \\\n",
       "0          2            76  Electronic City Phase II      Society       1056   \n",
       "1          0             0          Chikka Tirupathi      Society       2600   \n",
       "2          1             0               Uttarahalli  Independent       1440   \n",
       "3          2             0        Lingadheeranahalli      Society       1521   \n",
       "4          2             0                  Kothanur  Independent       1200   \n",
       "\n",
       "   bath  balcony   price  rooms  \n",
       "0   2.0      1.0   39.07    2.0  \n",
       "1   5.0      3.0  120.00    4.0  \n",
       "2   2.0      3.0   62.00    3.0  \n",
       "3   3.0      1.0   95.00    3.0  \n",
       "4   2.0      1.0   51.00    2.0  "
      ]
     },
     "execution_count": 16,
     "metadata": {},
     "output_type": "execute_result"
    }
   ],
   "source": [
    "data.head(5)"
   ]
  },
  {
   "cell_type": "markdown",
   "id": "7018d0e3",
   "metadata": {
    "papermill": {
     "duration": 0.014119,
     "end_time": "2022-09-22T21:51:29.139082",
     "exception": false,
     "start_time": "2022-09-22T21:51:29.124963",
     "status": "completed"
    },
    "tags": []
   },
   "source": [
    "# Correcting TOTAL_SQFT"
   ]
  },
  {
   "cell_type": "code",
   "execution_count": 17,
   "id": "e165ab23",
   "metadata": {
    "execution": {
     "iopub.execute_input": "2022-09-22T21:51:29.170242Z",
     "iopub.status.busy": "2022-09-22T21:51:29.169796Z",
     "iopub.status.idle": "2022-09-22T21:51:29.200361Z",
     "shell.execute_reply": "2022-09-22T21:51:29.199222Z"
    },
    "papermill": {
     "duration": 0.04911,
     "end_time": "2022-09-22T21:51:29.202882",
     "exception": false,
     "start_time": "2022-09-22T21:51:29.153772",
     "status": "completed"
    },
    "tags": []
   },
   "outputs": [
    {
     "data": {
      "text/html": [
       "<div>\n",
       "<style scoped>\n",
       "    .dataframe tbody tr th:only-of-type {\n",
       "        vertical-align: middle;\n",
       "    }\n",
       "\n",
       "    .dataframe tbody tr th {\n",
       "        vertical-align: top;\n",
       "    }\n",
       "\n",
       "    .dataframe thead th {\n",
       "        text-align: right;\n",
       "    }\n",
       "</style>\n",
       "<table border=\"1\" class=\"dataframe\">\n",
       "  <thead>\n",
       "    <tr style=\"text-align: right;\">\n",
       "      <th></th>\n",
       "      <th>area_type</th>\n",
       "      <th>availability</th>\n",
       "      <th>location</th>\n",
       "      <th>society</th>\n",
       "      <th>total_sqft</th>\n",
       "      <th>bath</th>\n",
       "      <th>balcony</th>\n",
       "      <th>price</th>\n",
       "      <th>rooms</th>\n",
       "    </tr>\n",
       "  </thead>\n",
       "  <tbody>\n",
       "    <tr>\n",
       "      <th>30</th>\n",
       "      <td>2</td>\n",
       "      <td>76</td>\n",
       "      <td>Yelahanka</td>\n",
       "      <td>Society</td>\n",
       "      <td>2100 - 2850</td>\n",
       "      <td>4.0</td>\n",
       "      <td>0.0</td>\n",
       "      <td>186.000</td>\n",
       "      <td>4.0</td>\n",
       "    </tr>\n",
       "    <tr>\n",
       "      <th>56</th>\n",
       "      <td>1</td>\n",
       "      <td>11</td>\n",
       "      <td>Devanahalli</td>\n",
       "      <td>Society</td>\n",
       "      <td>3010 - 3410</td>\n",
       "      <td>NaN</td>\n",
       "      <td>NaN</td>\n",
       "      <td>192.000</td>\n",
       "      <td>4.0</td>\n",
       "    </tr>\n",
       "    <tr>\n",
       "      <th>81</th>\n",
       "      <td>1</td>\n",
       "      <td>59</td>\n",
       "      <td>Hennur Road</td>\n",
       "      <td>Society</td>\n",
       "      <td>2957 - 3450</td>\n",
       "      <td>NaN</td>\n",
       "      <td>NaN</td>\n",
       "      <td>224.500</td>\n",
       "      <td>4.0</td>\n",
       "    </tr>\n",
       "    <tr>\n",
       "      <th>122</th>\n",
       "      <td>2</td>\n",
       "      <td>15</td>\n",
       "      <td>Hebbal</td>\n",
       "      <td>Society</td>\n",
       "      <td>3067 - 8156</td>\n",
       "      <td>4.0</td>\n",
       "      <td>0.0</td>\n",
       "      <td>477.000</td>\n",
       "      <td>4.0</td>\n",
       "    </tr>\n",
       "    <tr>\n",
       "      <th>137</th>\n",
       "      <td>2</td>\n",
       "      <td>16</td>\n",
       "      <td>8th Phase JP Nagar</td>\n",
       "      <td>Society</td>\n",
       "      <td>1042 - 1105</td>\n",
       "      <td>2.0</td>\n",
       "      <td>0.0</td>\n",
       "      <td>54.005</td>\n",
       "      <td>2.0</td>\n",
       "    </tr>\n",
       "    <tr>\n",
       "      <th>...</th>\n",
       "      <td>...</td>\n",
       "      <td>...</td>\n",
       "      <td>...</td>\n",
       "      <td>...</td>\n",
       "      <td>...</td>\n",
       "      <td>...</td>\n",
       "      <td>...</td>\n",
       "      <td>...</td>\n",
       "      <td>...</td>\n",
       "    </tr>\n",
       "    <tr>\n",
       "      <th>12990</th>\n",
       "      <td>2</td>\n",
       "      <td>0</td>\n",
       "      <td>Talaghattapura</td>\n",
       "      <td>Society</td>\n",
       "      <td>1804 - 2273</td>\n",
       "      <td>3.0</td>\n",
       "      <td>0.0</td>\n",
       "      <td>122.000</td>\n",
       "      <td>3.0</td>\n",
       "    </tr>\n",
       "    <tr>\n",
       "      <th>13059</th>\n",
       "      <td>2</td>\n",
       "      <td>0</td>\n",
       "      <td>Harlur</td>\n",
       "      <td>Society</td>\n",
       "      <td>1200 - 1470</td>\n",
       "      <td>2.0</td>\n",
       "      <td>0.0</td>\n",
       "      <td>72.760</td>\n",
       "      <td>2.0</td>\n",
       "    </tr>\n",
       "    <tr>\n",
       "      <th>13240</th>\n",
       "      <td>2</td>\n",
       "      <td>76</td>\n",
       "      <td>Devanahalli</td>\n",
       "      <td>Society</td>\n",
       "      <td>1020 - 1130</td>\n",
       "      <td>NaN</td>\n",
       "      <td>NaN</td>\n",
       "      <td>52.570</td>\n",
       "      <td>1.0</td>\n",
       "    </tr>\n",
       "    <tr>\n",
       "      <th>13265</th>\n",
       "      <td>2</td>\n",
       "      <td>77</td>\n",
       "      <td>Hoodi</td>\n",
       "      <td>Society</td>\n",
       "      <td>1133 - 1384</td>\n",
       "      <td>2.0</td>\n",
       "      <td>0.0</td>\n",
       "      <td>59.135</td>\n",
       "      <td>2.0</td>\n",
       "    </tr>\n",
       "    <tr>\n",
       "      <th>13299</th>\n",
       "      <td>2</td>\n",
       "      <td>0</td>\n",
       "      <td>Whitefield</td>\n",
       "      <td>Society</td>\n",
       "      <td>2830 - 2882</td>\n",
       "      <td>5.0</td>\n",
       "      <td>0.0</td>\n",
       "      <td>154.500</td>\n",
       "      <td>4.0</td>\n",
       "    </tr>\n",
       "  </tbody>\n",
       "</table>\n",
       "<p>247 rows × 9 columns</p>\n",
       "</div>"
      ],
      "text/plain": [
       "       area_type  availability            location  society   total_sqft  \\\n",
       "30             2            76           Yelahanka  Society  2100 - 2850   \n",
       "56             1            11         Devanahalli  Society  3010 - 3410   \n",
       "81             1            59         Hennur Road  Society  2957 - 3450   \n",
       "122            2            15              Hebbal  Society  3067 - 8156   \n",
       "137            2            16  8th Phase JP Nagar  Society  1042 - 1105   \n",
       "...          ...           ...                 ...      ...          ...   \n",
       "12990          2             0      Talaghattapura  Society  1804 - 2273   \n",
       "13059          2             0              Harlur  Society  1200 - 1470   \n",
       "13240          2            76         Devanahalli  Society  1020 - 1130   \n",
       "13265          2            77               Hoodi  Society  1133 - 1384   \n",
       "13299          2             0          Whitefield  Society  2830 - 2882   \n",
       "\n",
       "       bath  balcony    price  rooms  \n",
       "30      4.0      0.0  186.000    4.0  \n",
       "56      NaN      NaN  192.000    4.0  \n",
       "81      NaN      NaN  224.500    4.0  \n",
       "122     4.0      0.0  477.000    4.0  \n",
       "137     2.0      0.0   54.005    2.0  \n",
       "...     ...      ...      ...    ...  \n",
       "12990   3.0      0.0  122.000    3.0  \n",
       "13059   2.0      0.0   72.760    2.0  \n",
       "13240   NaN      NaN   52.570    1.0  \n",
       "13265   2.0      0.0   59.135    2.0  \n",
       "13299   5.0      0.0  154.500    4.0  \n",
       "\n",
       "[247 rows x 9 columns]"
      ]
     },
     "execution_count": 17,
     "metadata": {},
     "output_type": "execute_result"
    }
   ],
   "source": [
    "data[data['total_sqft'].str.contains('[Acres, Sq Meter, Yad, Cn, Guh, o, P]')==True]"
   ]
  },
  {
   "cell_type": "code",
   "execution_count": 18,
   "id": "80541f21",
   "metadata": {
    "execution": {
     "iopub.execute_input": "2022-09-22T21:51:29.235122Z",
     "iopub.status.busy": "2022-09-22T21:51:29.234676Z",
     "iopub.status.idle": "2022-09-22T21:51:29.245807Z",
     "shell.execute_reply": "2022-09-22T21:51:29.244857Z"
    },
    "papermill": {
     "duration": 0.030319,
     "end_time": "2022-09-22T21:51:29.248084",
     "exception": false,
     "start_time": "2022-09-22T21:51:29.217765",
     "status": "completed"
    },
    "tags": []
   },
   "outputs": [],
   "source": [
    "data['total_sqft']=data['total_sqft'].apply(lambda x : (float(x.split('-')[0])+float(x.split('-')[0])/2) if x.find('-')>0 else x)"
   ]
  },
  {
   "cell_type": "code",
   "execution_count": 19,
   "id": "9e2aba37",
   "metadata": {
    "execution": {
     "iopub.execute_input": "2022-09-22T21:51:29.280238Z",
     "iopub.status.busy": "2022-09-22T21:51:29.279796Z",
     "iopub.status.idle": "2022-09-22T21:51:29.304517Z",
     "shell.execute_reply": "2022-09-22T21:51:29.303138Z"
    },
    "papermill": {
     "duration": 0.043976,
     "end_time": "2022-09-22T21:51:29.307017",
     "exception": false,
     "start_time": "2022-09-22T21:51:29.263041",
     "status": "completed"
    },
    "tags": []
   },
   "outputs": [],
   "source": [
    "data['total_sqft']=data['total_sqft'].astype(str).apply(lambda x : float(x.replace('Sq. Meter', ''))*10.76 if x.find('M')>0 else x)\n",
    "data['total_sqft']=data['total_sqft'].astype(str).apply(lambda x : float(x.replace('Acres', ''))*43560.00 if x.find('A')>0 else x)\n",
    "data['total_sqft']=data['total_sqft'].astype(str).apply(lambda x : float(x.replace('Sq. Yards', ''))*9.00 if x.find('Y')>0 else x)"
   ]
  },
  {
   "cell_type": "code",
   "execution_count": 20,
   "id": "a4e0fb9a",
   "metadata": {
    "execution": {
     "iopub.execute_input": "2022-09-22T21:51:29.339237Z",
     "iopub.status.busy": "2022-09-22T21:51:29.338802Z",
     "iopub.status.idle": "2022-09-22T21:51:29.360185Z",
     "shell.execute_reply": "2022-09-22T21:51:29.359252Z"
    },
    "papermill": {
     "duration": 0.040039,
     "end_time": "2022-09-22T21:51:29.362682",
     "exception": false,
     "start_time": "2022-09-22T21:51:29.322643",
     "status": "completed"
    },
    "tags": []
   },
   "outputs": [],
   "source": [
    "data=data[data['total_sqft'].str.contains('[Yad, Cn, Guh, o, P]')==False]\n",
    "data['total_sqft']=data['total_sqft'].astype(float)"
   ]
  },
  {
   "cell_type": "code",
   "execution_count": 21,
   "id": "e747079e",
   "metadata": {
    "execution": {
     "iopub.execute_input": "2022-09-22T21:51:29.394955Z",
     "iopub.status.busy": "2022-09-22T21:51:29.393855Z",
     "iopub.status.idle": "2022-09-22T21:51:29.398838Z",
     "shell.execute_reply": "2022-09-22T21:51:29.397698Z"
    },
    "papermill": {
     "duration": 0.023564,
     "end_time": "2022-09-22T21:51:29.401246",
     "exception": false,
     "start_time": "2022-09-22T21:51:29.377682",
     "status": "completed"
    },
    "tags": []
   },
   "outputs": [],
   "source": [
    "#data[data['total_sqft'].str.contains('[M]')==True].replace('Sq. Meter', '', regex=True)['total_sqft'].astype(float)*10.76\n",
    "#a['total_sqft'].astype(float)*10.76"
   ]
  },
  {
   "cell_type": "markdown",
   "id": "20008800",
   "metadata": {
    "papermill": {
     "duration": 0.014757,
     "end_time": "2022-09-22T21:51:29.430939",
     "exception": false,
     "start_time": "2022-09-22T21:51:29.416182",
     "status": "completed"
    },
    "tags": []
   },
   "source": [
    "# Check Outliers"
   ]
  },
  {
   "cell_type": "code",
   "execution_count": 22,
   "id": "bcc21fca",
   "metadata": {
    "execution": {
     "iopub.execute_input": "2022-09-22T21:51:29.463087Z",
     "iopub.status.busy": "2022-09-22T21:51:29.462349Z",
     "iopub.status.idle": "2022-09-22T21:51:30.239481Z",
     "shell.execute_reply": "2022-09-22T21:51:30.238266Z"
    },
    "papermill": {
     "duration": 0.796344,
     "end_time": "2022-09-22T21:51:30.242335",
     "exception": false,
     "start_time": "2022-09-22T21:51:29.445991",
     "status": "completed"
    },
    "tags": []
   },
   "outputs": [
    {
     "data": {
      "text/plain": [
       "area_type          AxesSubplot(0.125,0.536818;0.168478x0.343182)\n",
       "availability    AxesSubplot(0.327174,0.536818;0.168478x0.343182)\n",
       "total_sqft      AxesSubplot(0.529348,0.536818;0.168478x0.343182)\n",
       "bath            AxesSubplot(0.731522,0.536818;0.168478x0.343182)\n",
       "balcony               AxesSubplot(0.125,0.125;0.168478x0.343182)\n",
       "price              AxesSubplot(0.327174,0.125;0.168478x0.343182)\n",
       "rooms              AxesSubplot(0.529348,0.125;0.168478x0.343182)\n",
       "dtype: object"
      ]
     },
     "execution_count": 22,
     "metadata": {},
     "output_type": "execute_result"
    },
    {
     "data": {
      "image/png": "[encoded data removed]",
      "text/plain": [
       "<Figure size 1080x360 with 8 Axes>"
      ]
     },
     "metadata": {
      "needs_background": "light"
     },
     "output_type": "display_data"
    }
   ],
   "source": [
    "data.plot(kind='box', subplots=True, layout=(2,4), figsize=(15,5))"
   ]
  },
  {
   "cell_type": "code",
   "execution_count": 23,
   "id": "768a6cfe",
   "metadata": {
    "execution": {
     "iopub.execute_input": "2022-09-22T21:51:30.276411Z",
     "iopub.status.busy": "2022-09-22T21:51:30.275969Z",
     "iopub.status.idle": "2022-09-22T21:51:30.500341Z",
     "shell.execute_reply": "2022-09-22T21:51:30.499259Z"
    },
    "papermill": {
     "duration": 0.243886,
     "end_time": "2022-09-22T21:51:30.502889",
     "exception": false,
     "start_time": "2022-09-22T21:51:30.259003",
     "status": "completed"
    },
    "tags": []
   },
   "outputs": [
    {
     "data": {
      "image/png": "[encoded data removed]",
      "text/plain": [
       "<Figure size 432x288 with 1 Axes>"
      ]
     },
     "metadata": {
      "needs_background": "light"
     },
     "output_type": "display_data"
    }
   ],
   "source": [
    "# Outlier removal for rooms\n",
    "data['rooms'].plot(kind='hist', bins=15)\n",
    "data=data[data['rooms']<5]"
   ]
  },
  {
   "cell_type": "code",
   "execution_count": 24,
   "id": "2d74ccef",
   "metadata": {
    "execution": {
     "iopub.execute_input": "2022-09-22T21:51:30.536221Z",
     "iopub.status.busy": "2022-09-22T21:51:30.535793Z",
     "iopub.status.idle": "2022-09-22T21:51:30.762264Z",
     "shell.execute_reply": "2022-09-22T21:51:30.761301Z"
    },
    "papermill": {
     "duration": 0.246109,
     "end_time": "2022-09-22T21:51:30.764667",
     "exception": false,
     "start_time": "2022-09-22T21:51:30.518558",
     "status": "completed"
    },
    "tags": []
   },
   "outputs": [
    {
     "data": {
      "image/png": "[encoded data removed]",
      "text/plain": [
       "<Figure size 432x288 with 1 Axes>"
      ]
     },
     "metadata": {
      "needs_background": "light"
     },
     "output_type": "display_data"
    }
   ],
   "source": [
    "# Outlier removal for bath\n",
    "data['bath'].plot(kind='hist', bins=10)\n",
    "data=data[data['bath']<5]"
   ]
  },
  {
   "cell_type": "markdown",
   "id": "32158dfe",
   "metadata": {
    "papermill": {
     "duration": 0.01606,
     "end_time": "2022-09-22T21:51:30.796773",
     "exception": false,
     "start_time": "2022-09-22T21:51:30.780713",
     "status": "completed"
    },
    "tags": []
   },
   "source": [
    "![](http://civilsir.com/wp-content/uploads/2021/07/20210716_095610.jpg)"
   ]
  },
  {
   "cell_type": "code",
   "execution_count": 25,
   "id": "f8091d7f",
   "metadata": {
    "execution": {
     "iopub.execute_input": "2022-09-22T21:51:30.831149Z",
     "iopub.status.busy": "2022-09-22T21:51:30.829948Z",
     "iopub.status.idle": "2022-09-22T21:51:30.862103Z",
     "shell.execute_reply": "2022-09-22T21:51:30.860689Z"
    },
    "papermill": {
     "duration": 0.052264,
     "end_time": "2022-09-22T21:51:30.864934",
     "exception": false,
     "start_time": "2022-09-22T21:51:30.812670",
     "status": "completed"
    },
    "tags": []
   },
   "outputs": [
    {
     "data": {
      "text/plain": [
       "4086         1.0\n",
       "11558       60.0\n",
       "992        315.0\n",
       "12464      350.0\n",
       "8517       360.0\n",
       "          ...   \n",
       "440      11890.0\n",
       "1234     14000.0\n",
       "12470    16335.0\n",
       "2623     30000.0\n",
       "5469     36000.0\n",
       "Name: total_sqft, Length: 1038, dtype: float64"
      ]
     },
     "metadata": {},
     "output_type": "display_data"
    },
    {
     "name": "stdout",
     "output_type": "stream",
     "text": [
      "<class 'pandas.core.frame.DataFrame'>\n",
      "Int64Index: 11326 entries, 20 to 13318\n",
      "Data columns (total 9 columns):\n",
      " #   Column        Non-Null Count  Dtype  \n",
      "---  ------        --------------  -----  \n",
      " 0   area_type     11326 non-null  int64  \n",
      " 1   availability  11326 non-null  int64  \n",
      " 2   location      11325 non-null  object \n",
      " 3   society       11326 non-null  object \n",
      " 4   total_sqft    11326 non-null  float64\n",
      " 5   bath          11326 non-null  float64\n",
      " 6   balcony       11024 non-null  float64\n",
      " 7   price         11326 non-null  float64\n",
      " 8   rooms         11326 non-null  float64\n",
      "dtypes: float64(5), int64(2), object(2)\n",
      "memory usage: 884.8+ KB\n"
     ]
    }
   ],
   "source": [
    "# Outlier removal for total_sqft\n",
    "display(data[data['rooms']==4]['total_sqft'].sort_values())\n",
    "\n",
    "\"\"\"# option 1\n",
    "data_1bhk=data[(data['rooms']==1) & (data['total_sqft']>45) & (data['total_sqft']<=2559.0)]\n",
    "data_2bhk=data[(data['rooms']==2) & (data['total_sqft']<=8840.0)]\n",
    "data_3bhk=data[(data['rooms']==3) & (data['total_sqft']>11) & (data['total_sqft']<=9000.0)]\n",
    "data_4bhk=data[(data['rooms']==4) & (data['total_sqft']>60) & (data['total_sqft']<=16335.0)]\"\"\"\n",
    "\n",
    "\"\"\"# option 2\n",
    "data_1bhk=data[(data['rooms']==1) & (data['total_sqft']>300) & (data['total_sqft']<700)]\n",
    "data_2bhk=data[(data['rooms']==2) & (data['total_sqft']>500) & (data['total_sqft']<900)]\n",
    "data_3bhk=data[(data['rooms']==3) & (data['total_sqft']>700) & (data['total_sqft']<1300)]\n",
    "data_4bhk=data[(data['rooms']==4) & (data['total_sqft']>800) & (data['total_sqft']<2000)]\"\"\"\n",
    "\n",
    "\"\"\"# option 3\n",
    "data_1bhk=data[(data['rooms']==1) & (data['total_sqft']>45) & (data['total_sqft']<=1500.0)]\n",
    "data_2bhk=data[(data['rooms']==2) & (data['total_sqft']<=2000.0)]\n",
    "data_3bhk=data[(data['rooms']==3) & (data['total_sqft']>11) & (data['total_sqft']<=4000.0)]\n",
    "data_4bhk=data[(data['rooms']==4) & (data['total_sqft']>60) & (data['total_sqft']<=8000.0)]\"\"\"\n",
    "\n",
    "\"\"\"# option 4\n",
    "data_1bhk=data[(data['rooms']==1) & (data['total_sqft']>300) & (data['total_sqft']<=1000.0)]\n",
    "data_2bhk=data[(data['rooms']==2) & (data['total_sqft']>800) & (data['total_sqft']<=1500.0)]\n",
    "data_3bhk=data[(data['rooms']==3) & (data['total_sqft']>800) & (data['total_sqft']<=2400.0)]\n",
    "data_4bhk=data[(data['rooms']==4) & (data['total_sqft']>60) & (data['total_sqft']<=6000.0)]\"\"\"\n",
    "\n",
    "# option 5\n",
    "data_1bhk=data[(data['rooms']==1) & (data['total_sqft']>300) & (data['total_sqft']<=1000.0)]\n",
    "data_2bhk=data[(data['rooms']==2) & (data['total_sqft']>800) & (data['total_sqft']<=1500.0)]\n",
    "data_3bhk=data[(data['rooms']==3) & (data['total_sqft']>800) & (data['total_sqft']<=4000.0)]\n",
    "data_4bhk=data[(data['rooms']==4) & (data['total_sqft']>800) & (data['total_sqft']<=8000.0)]\n",
    "\n",
    "data=pd.concat([data_1bhk, data_2bhk, data_3bhk, data_4bhk])\n",
    "\n",
    "data.info()"
   ]
  },
  {
   "cell_type": "code",
   "execution_count": 26,
   "id": "6f53f8da",
   "metadata": {
    "execution": {
     "iopub.execute_input": "2022-09-22T21:51:30.899181Z",
     "iopub.status.busy": "2022-09-22T21:51:30.898289Z",
     "iopub.status.idle": "2022-09-22T21:51:31.073715Z",
     "shell.execute_reply": "2022-09-22T21:51:31.072582Z"
    },
    "papermill": {
     "duration": 0.195216,
     "end_time": "2022-09-22T21:51:31.076271",
     "exception": false,
     "start_time": "2022-09-22T21:51:30.881055",
     "status": "completed"
    },
    "tags": []
   },
   "outputs": [
    {
     "data": {
      "text/plain": [
       "<AxesSubplot:>"
      ]
     },
     "execution_count": 26,
     "metadata": {},
     "output_type": "execute_result"
    },
    {
     "data": {
      "image/png": "[encoded data removed]",
      "text/plain": [
       "<Figure size 432x288 with 1 Axes>"
      ]
     },
     "metadata": {
      "needs_background": "light"
     },
     "output_type": "display_data"
    }
   ],
   "source": [
    "data[(data['rooms']==4)]['total_sqft'].plot(kind='box')"
   ]
  },
  {
   "cell_type": "markdown",
   "id": "7c4ca8e7",
   "metadata": {
    "papermill": {
     "duration": 0.016353,
     "end_time": "2022-09-22T21:51:31.109434",
     "exception": false,
     "start_time": "2022-09-22T21:51:31.093081",
     "status": "completed"
    },
    "tags": []
   },
   "source": [
    "# Check NULL values"
   ]
  },
  {
   "cell_type": "code",
   "execution_count": 27,
   "id": "dbfca856",
   "metadata": {
    "execution": {
     "iopub.execute_input": "2022-09-22T21:51:31.144154Z",
     "iopub.status.busy": "2022-09-22T21:51:31.143713Z",
     "iopub.status.idle": "2022-09-22T21:51:31.155932Z",
     "shell.execute_reply": "2022-09-22T21:51:31.154551Z"
    },
    "papermill": {
     "duration": 0.032337,
     "end_time": "2022-09-22T21:51:31.158236",
     "exception": false,
     "start_time": "2022-09-22T21:51:31.125899",
     "status": "completed"
    },
    "tags": []
   },
   "outputs": [
    {
     "data": {
      "text/plain": [
       "area_type       0.000000\n",
       "availability    0.000000\n",
       "location        0.000075\n",
       "society         0.000000\n",
       "total_sqft      0.000000\n",
       "bath            0.000000\n",
       "balcony         0.022673\n",
       "price           0.000000\n",
       "rooms           0.000000\n",
       "dtype: float64"
      ]
     },
     "execution_count": 27,
     "metadata": {},
     "output_type": "execute_result"
    }
   ],
   "source": [
    "data.isnull().sum()/13320"
   ]
  },
  {
   "cell_type": "code",
   "execution_count": 28,
   "id": "8876403a",
   "metadata": {
    "execution": {
     "iopub.execute_input": "2022-09-22T21:51:31.193071Z",
     "iopub.status.busy": "2022-09-22T21:51:31.192657Z",
     "iopub.status.idle": "2022-09-22T21:51:31.200723Z",
     "shell.execute_reply": "2022-09-22T21:51:31.199527Z"
    },
    "papermill": {
     "duration": 0.028361,
     "end_time": "2022-09-22T21:51:31.203122",
     "exception": false,
     "start_time": "2022-09-22T21:51:31.174761",
     "status": "completed"
    },
    "tags": []
   },
   "outputs": [],
   "source": [
    "data['location']=data['location'].fillna(data['location'].mode()[0])"
   ]
  },
  {
   "cell_type": "code",
   "execution_count": 29,
   "id": "5649f916",
   "metadata": {
    "execution": {
     "iopub.execute_input": "2022-09-22T21:51:31.238514Z",
     "iopub.status.busy": "2022-09-22T21:51:31.238114Z",
     "iopub.status.idle": "2022-09-22T21:51:31.250295Z",
     "shell.execute_reply": "2022-09-22T21:51:31.249322Z"
    },
    "papermill": {
     "duration": 0.032961,
     "end_time": "2022-09-22T21:51:31.252872",
     "exception": false,
     "start_time": "2022-09-22T21:51:31.219911",
     "status": "completed"
    },
    "tags": []
   },
   "outputs": [],
   "source": [
    "# NULLs Dropped\n",
    "data1=data.copy()\n",
    "data1=data1.dropna()"
   ]
  },
  {
   "cell_type": "code",
   "execution_count": 30,
   "id": "693a10ad",
   "metadata": {
    "execution": {
     "iopub.execute_input": "2022-09-22T21:51:31.289988Z",
     "iopub.status.busy": "2022-09-22T21:51:31.288770Z",
     "iopub.status.idle": "2022-09-22T21:51:31.300427Z",
     "shell.execute_reply": "2022-09-22T21:51:31.299442Z"
    },
    "papermill": {
     "duration": 0.03223,
     "end_time": "2022-09-22T21:51:31.303072",
     "exception": false,
     "start_time": "2022-09-22T21:51:31.270842",
     "status": "completed"
    },
    "tags": []
   },
   "outputs": [],
   "source": [
    "# NULLs imputed\n",
    "data2=data.copy()\n",
    "data2['rooms']=data2['rooms'].fillna(data2['rooms'].mode()[0])\n",
    "data2['bath']=data2['bath'].fillna(data2['bath'].mode()[0])\n",
    "data2['balcony']=data2['balcony'].fillna(data2['balcony'].mode()[0])"
   ]
  },
  {
   "cell_type": "code",
   "execution_count": 31,
   "id": "0cf73c58",
   "metadata": {
    "execution": {
     "iopub.execute_input": "2022-09-22T21:51:31.338846Z",
     "iopub.status.busy": "2022-09-22T21:51:31.338021Z",
     "iopub.status.idle": "2022-09-22T21:51:31.366569Z",
     "shell.execute_reply": "2022-09-22T21:51:31.365264Z"
    },
    "papermill": {
     "duration": 0.049298,
     "end_time": "2022-09-22T21:51:31.369170",
     "exception": false,
     "start_time": "2022-09-22T21:51:31.319872",
     "status": "completed"
    },
    "tags": []
   },
   "outputs": [
    {
     "data": {
      "text/html": [
       "<div>\n",
       "<style scoped>\n",
       "    .dataframe tbody tr th:only-of-type {\n",
       "        vertical-align: middle;\n",
       "    }\n",
       "\n",
       "    .dataframe tbody tr th {\n",
       "        vertical-align: top;\n",
       "    }\n",
       "\n",
       "    .dataframe thead th {\n",
       "        text-align: right;\n",
       "    }\n",
       "</style>\n",
       "<table border=\"1\" class=\"dataframe\">\n",
       "  <thead>\n",
       "    <tr style=\"text-align: right;\">\n",
       "      <th></th>\n",
       "      <th>area_type</th>\n",
       "      <th>availability</th>\n",
       "      <th>location</th>\n",
       "      <th>society</th>\n",
       "      <th>total_sqft</th>\n",
       "      <th>bath</th>\n",
       "      <th>balcony</th>\n",
       "      <th>price</th>\n",
       "      <th>rooms</th>\n",
       "    </tr>\n",
       "  </thead>\n",
       "  <tbody>\n",
       "    <tr>\n",
       "      <th>20</th>\n",
       "      <td>1</td>\n",
       "      <td>0</td>\n",
       "      <td>Kengeri</td>\n",
       "      <td>Independent</td>\n",
       "      <td>600.0</td>\n",
       "      <td>1.0</td>\n",
       "      <td>1.0</td>\n",
       "      <td>15.00</td>\n",
       "      <td>1.0</td>\n",
       "    </tr>\n",
       "    <tr>\n",
       "      <th>24</th>\n",
       "      <td>2</td>\n",
       "      <td>67</td>\n",
       "      <td>other</td>\n",
       "      <td>Society</td>\n",
       "      <td>510.0</td>\n",
       "      <td>1.0</td>\n",
       "      <td>0.0</td>\n",
       "      <td>25.25</td>\n",
       "      <td>1.0</td>\n",
       "    </tr>\n",
       "    <tr>\n",
       "      <th>42</th>\n",
       "      <td>2</td>\n",
       "      <td>0</td>\n",
       "      <td>other</td>\n",
       "      <td>Society</td>\n",
       "      <td>600.0</td>\n",
       "      <td>1.0</td>\n",
       "      <td>0.0</td>\n",
       "      <td>38.00</td>\n",
       "      <td>1.0</td>\n",
       "    </tr>\n",
       "    <tr>\n",
       "      <th>43</th>\n",
       "      <td>0</td>\n",
       "      <td>0</td>\n",
       "      <td>Yelahanka</td>\n",
       "      <td>Independent</td>\n",
       "      <td>660.0</td>\n",
       "      <td>1.0</td>\n",
       "      <td>0.0</td>\n",
       "      <td>48.00</td>\n",
       "      <td>1.0</td>\n",
       "    </tr>\n",
       "    <tr>\n",
       "      <th>171</th>\n",
       "      <td>2</td>\n",
       "      <td>0</td>\n",
       "      <td>Attibele</td>\n",
       "      <td>Society</td>\n",
       "      <td>450.0</td>\n",
       "      <td>1.0</td>\n",
       "      <td>1.0</td>\n",
       "      <td>11.00</td>\n",
       "      <td>1.0</td>\n",
       "    </tr>\n",
       "  </tbody>\n",
       "</table>\n",
       "</div>"
      ],
      "text/plain": [
       "     area_type  availability   location      society  total_sqft  bath  \\\n",
       "20           1             0    Kengeri  Independent       600.0   1.0   \n",
       "24           2            67      other      Society       510.0   1.0   \n",
       "42           2             0      other      Society       600.0   1.0   \n",
       "43           0             0  Yelahanka  Independent       660.0   1.0   \n",
       "171          2             0   Attibele      Society       450.0   1.0   \n",
       "\n",
       "     balcony  price  rooms  \n",
       "20       1.0  15.00    1.0  \n",
       "24       0.0  25.25    1.0  \n",
       "42       0.0  38.00    1.0  \n",
       "43       0.0  48.00    1.0  \n",
       "171      1.0  11.00    1.0  "
      ]
     },
     "metadata": {},
     "output_type": "display_data"
    },
    {
     "data": {
      "text/html": [
       "<div>\n",
       "<style scoped>\n",
       "    .dataframe tbody tr th:only-of-type {\n",
       "        vertical-align: middle;\n",
       "    }\n",
       "\n",
       "    .dataframe tbody tr th {\n",
       "        vertical-align: top;\n",
       "    }\n",
       "\n",
       "    .dataframe thead th {\n",
       "        text-align: right;\n",
       "    }\n",
       "</style>\n",
       "<table border=\"1\" class=\"dataframe\">\n",
       "  <thead>\n",
       "    <tr style=\"text-align: right;\">\n",
       "      <th></th>\n",
       "      <th>area_type</th>\n",
       "      <th>availability</th>\n",
       "      <th>location</th>\n",
       "      <th>society</th>\n",
       "      <th>total_sqft</th>\n",
       "      <th>bath</th>\n",
       "      <th>balcony</th>\n",
       "      <th>price</th>\n",
       "      <th>rooms</th>\n",
       "    </tr>\n",
       "  </thead>\n",
       "  <tbody>\n",
       "    <tr>\n",
       "      <th>20</th>\n",
       "      <td>1</td>\n",
       "      <td>0</td>\n",
       "      <td>Kengeri</td>\n",
       "      <td>Independent</td>\n",
       "      <td>600.0</td>\n",
       "      <td>1.0</td>\n",
       "      <td>1.0</td>\n",
       "      <td>15.00</td>\n",
       "      <td>1.0</td>\n",
       "    </tr>\n",
       "    <tr>\n",
       "      <th>24</th>\n",
       "      <td>2</td>\n",
       "      <td>67</td>\n",
       "      <td>other</td>\n",
       "      <td>Society</td>\n",
       "      <td>510.0</td>\n",
       "      <td>1.0</td>\n",
       "      <td>0.0</td>\n",
       "      <td>25.25</td>\n",
       "      <td>1.0</td>\n",
       "    </tr>\n",
       "    <tr>\n",
       "      <th>42</th>\n",
       "      <td>2</td>\n",
       "      <td>0</td>\n",
       "      <td>other</td>\n",
       "      <td>Society</td>\n",
       "      <td>600.0</td>\n",
       "      <td>1.0</td>\n",
       "      <td>0.0</td>\n",
       "      <td>38.00</td>\n",
       "      <td>1.0</td>\n",
       "    </tr>\n",
       "    <tr>\n",
       "      <th>43</th>\n",
       "      <td>0</td>\n",
       "      <td>0</td>\n",
       "      <td>Yelahanka</td>\n",
       "      <td>Independent</td>\n",
       "      <td>660.0</td>\n",
       "      <td>1.0</td>\n",
       "      <td>0.0</td>\n",
       "      <td>48.00</td>\n",
       "      <td>1.0</td>\n",
       "    </tr>\n",
       "    <tr>\n",
       "      <th>171</th>\n",
       "      <td>2</td>\n",
       "      <td>0</td>\n",
       "      <td>Attibele</td>\n",
       "      <td>Society</td>\n",
       "      <td>450.0</td>\n",
       "      <td>1.0</td>\n",
       "      <td>1.0</td>\n",
       "      <td>11.00</td>\n",
       "      <td>1.0</td>\n",
       "    </tr>\n",
       "  </tbody>\n",
       "</table>\n",
       "</div>"
      ],
      "text/plain": [
       "     area_type  availability   location      society  total_sqft  bath  \\\n",
       "20           1             0    Kengeri  Independent       600.0   1.0   \n",
       "24           2            67      other      Society       510.0   1.0   \n",
       "42           2             0      other      Society       600.0   1.0   \n",
       "43           0             0  Yelahanka  Independent       660.0   1.0   \n",
       "171          2             0   Attibele      Society       450.0   1.0   \n",
       "\n",
       "     balcony  price  rooms  \n",
       "20       1.0  15.00    1.0  \n",
       "24       0.0  25.25    1.0  \n",
       "42       0.0  38.00    1.0  \n",
       "43       0.0  48.00    1.0  \n",
       "171      1.0  11.00    1.0  "
      ]
     },
     "metadata": {},
     "output_type": "display_data"
    }
   ],
   "source": [
    "display(data1.head())\n",
    "\n",
    "display(data2.head())"
   ]
  },
  {
   "cell_type": "code",
   "execution_count": 32,
   "id": "96958dd5",
   "metadata": {
    "execution": {
     "iopub.execute_input": "2022-09-22T21:51:31.405247Z",
     "iopub.status.busy": "2022-09-22T21:51:31.404477Z",
     "iopub.status.idle": "2022-09-22T21:51:31.413514Z",
     "shell.execute_reply": "2022-09-22T21:51:31.412658Z"
    },
    "papermill": {
     "duration": 0.029865,
     "end_time": "2022-09-22T21:51:31.416000",
     "exception": false,
     "start_time": "2022-09-22T21:51:31.386135",
     "status": "completed"
    },
    "tags": []
   },
   "outputs": [],
   "source": [
    "# Pre-processing 1\n",
    "# without PCA\n",
    "def preprocess1(data_func):\n",
    "    # Label Encoding\n",
    "    from sklearn.preprocessing import LabelEncoder\n",
    "    label = LabelEncoder()\n",
    "    data_func['society']=label.fit_transform(data_func['society'])\n",
    "    \n",
    "    # One-hot Encoding\n",
    "    data_func_location = pd.get_dummies(data_func['location'])\n",
    "    data_func=pd.concat([data_func, data_func_location], axis=1)\n",
    "    data_func=data_func.drop(columns=['location', 'area_type', 'availability', 'society'])\n",
    "    \n",
    "    # Split input and output\n",
    "    x=data_func.drop(columns=['price'])\n",
    "    y=data_func['price']\n",
    "\n",
    "    # Standardization\n",
    "    from sklearn.preprocessing import StandardScaler\n",
    "    scale=StandardScaler()\n",
    "    x=scale.fit_transform(x)\n",
    "    y=scale.fit_transform(pd.DataFrame(y))\n",
    "\n",
    "    # Train-Test split\n",
    "    from sklearn.model_selection import train_test_split\n",
    "    x_train, x_test, y_train, y_test=train_test_split(x, y, test_size=0.2, random_state=7, shuffle=True)\n",
    "    \n",
    "    return(x_train, x_test, y_train, y_test, scale)"
   ]
  },
  {
   "cell_type": "code",
   "execution_count": 33,
   "id": "a7aa1dff",
   "metadata": {
    "execution": {
     "iopub.execute_input": "2022-09-22T21:51:31.452223Z",
     "iopub.status.busy": "2022-09-22T21:51:31.451430Z",
     "iopub.status.idle": "2022-09-22T21:51:31.461046Z",
     "shell.execute_reply": "2022-09-22T21:51:31.459943Z"
    },
    "papermill": {
     "duration": 0.030778,
     "end_time": "2022-09-22T21:51:31.463671",
     "exception": false,
     "start_time": "2022-09-22T21:51:31.432893",
     "status": "completed"
    },
    "tags": []
   },
   "outputs": [],
   "source": [
    "# Pre-processing 2\n",
    "# with PCA\n",
    "def preprocess2(data_func):\n",
    "    # Label Encoding\n",
    "    from sklearn.preprocessing import LabelEncoder\n",
    "    label = LabelEncoder()\n",
    "    data_func['society']=label.fit_transform(data_func['society'])\n",
    "    \n",
    "    # One-hot Encoding\n",
    "    data_func_location = pd.get_dummies(data_func['location'])\n",
    "    data_func=pd.concat([data_func, data_func_location], axis=1)\n",
    "    data_func=data_func.drop(columns=['location', 'area_type', 'availability', 'society'])\n",
    "    \n",
    "    # Split input and output\n",
    "    x=data_func.drop(columns=['price'])\n",
    "    y=data_func['price']\n",
    "\n",
    "    # PCA\n",
    "    from sklearn.decomposition import PCA\n",
    "    pca = PCA(n_components=10)\n",
    "    x=pca.fit_transform(x)\n",
    "    \n",
    "    # Standardization\n",
    "    from sklearn.preprocessing import StandardScaler\n",
    "    scale=StandardScaler()\n",
    "    x=scale.fit_transform(x)\n",
    "    y=scale.fit_transform(pd.DataFrame(y))\n",
    "\n",
    "    # Train-Test split\n",
    "    from sklearn.model_selection import train_test_split\n",
    "    x_train, x_test, y_train, y_test=train_test_split(x, y, test_size=0.2, random_state=7)\n",
    "    \n",
    "    return(x_train, x_test, y_train, y_test, scale)"
   ]
  },
  {
   "cell_type": "code",
   "execution_count": 34,
   "id": "7f3fbaeb",
   "metadata": {
    "execution": {
     "iopub.execute_input": "2022-09-22T21:51:31.499665Z",
     "iopub.status.busy": "2022-09-22T21:51:31.498892Z",
     "iopub.status.idle": "2022-09-22T21:51:31.505960Z",
     "shell.execute_reply": "2022-09-22T21:51:31.504849Z"
    },
    "papermill": {
     "duration": 0.027869,
     "end_time": "2022-09-22T21:51:31.508540",
     "exception": false,
     "start_time": "2022-09-22T21:51:31.480671",
     "status": "completed"
    },
    "tags": []
   },
   "outputs": [],
   "source": [
    "# Linear Regression\n",
    "\n",
    "def Linear_Regression_func(data_func):\n",
    "    x_train, x_test, y_train, y_test, scale = preprocess1(data_func)\n",
    "\n",
    "    # Model Creation\n",
    "    from sklearn.linear_model import LinearRegression\n",
    "    model=LinearRegression()\n",
    "    model.fit(x_train, y_train)\n",
    "    y_pred=model.predict(x_test)\n",
    "    \n",
    "    y_pred=scale.inverse_transform(y_pred)\n",
    "    y_test=scale.inverse_transform(y_test)\n",
    "\n",
    "    # Model score\n",
    "    from sklearn import metrics\n",
    "    print(\"R2 score\", metrics.r2_score(y_test, y_pred))"
   ]
  },
  {
   "cell_type": "code",
   "execution_count": 35,
   "id": "9b11963d",
   "metadata": {
    "execution": {
     "iopub.execute_input": "2022-09-22T21:51:31.544026Z",
     "iopub.status.busy": "2022-09-22T21:51:31.543608Z",
     "iopub.status.idle": "2022-09-22T21:51:31.552993Z",
     "shell.execute_reply": "2022-09-22T21:51:31.551740Z"
    },
    "papermill": {
     "duration": 0.029956,
     "end_time": "2022-09-22T21:51:31.555399",
     "exception": false,
     "start_time": "2022-09-22T21:51:31.525443",
     "status": "completed"
    },
    "tags": []
   },
   "outputs": [],
   "source": [
    "# Linear Regression with cross validation\n",
    "\n",
    "def Linear_Regression_func2(data_func):\n",
    "    # Label Encoding\n",
    "    from sklearn.preprocessing import LabelEncoder\n",
    "    label = LabelEncoder()\n",
    "    data_func['society']=label.fit_transform(data_func['society'])\n",
    "    \n",
    "    # One-hot Encoding\n",
    "    data_func_location = pd.get_dummies(data_func['location'])\n",
    "    data_func=pd.concat([data_func, data_func_location], axis=1)\n",
    "    data_func=data_func.drop(columns=['location', 'area_type', 'availability', 'society'])\n",
    "    \n",
    "    # Split input and output\n",
    "    x=data_func.drop(columns=['price'])\n",
    "    y=data_func['price']\n",
    "\n",
    "    # Standardization\n",
    "    from sklearn.preprocessing import StandardScaler\n",
    "    scale=StandardScaler()\n",
    "    x=scale.fit_transform(x)\n",
    "    y=scale.fit_transform(pd.DataFrame(y))\n",
    "\n",
    "    # Model Creation\n",
    "    from sklearn.linear_model import LinearRegression\n",
    "    model=LinearRegression()\n",
    "    \n",
    "    # K-Fold cross validation\n",
    "    from sklearn.model_selection import cross_val_score\n",
    "    score=cross_val_score(model, x, y, cv=10, scoring='r2')\n",
    "    \n",
    "    # Model score\n",
    "    print(\"R2 score\", score.mean())"
   ]
  },
  {
   "cell_type": "code",
   "execution_count": 36,
   "id": "7431367f",
   "metadata": {
    "execution": {
     "iopub.execute_input": "2022-09-22T21:51:31.591326Z",
     "iopub.status.busy": "2022-09-22T21:51:31.590485Z",
     "iopub.status.idle": "2022-09-22T21:51:31.597851Z",
     "shell.execute_reply": "2022-09-22T21:51:31.596754Z"
    },
    "papermill": {
     "duration": 0.027675,
     "end_time": "2022-09-22T21:51:31.600005",
     "exception": false,
     "start_time": "2022-09-22T21:51:31.572330",
     "status": "completed"
    },
    "tags": []
   },
   "outputs": [],
   "source": [
    "# Random Forest\n",
    "\n",
    "def RandomForest_func(data_func):\n",
    "    x_train, x_test, y_train, y_test, scale = preprocess1(data_func)\n",
    "\n",
    "    # Model Creation\n",
    "    from sklearn.ensemble import RandomForestRegressor\n",
    "    model=RandomForestRegressor()\n",
    "    model.fit(x_train, y_train)\n",
    "    y_pred=model.predict(x_test)\n",
    "    \n",
    "    y_pred=scale.inverse_transform(pd.DataFrame(y_pred))\n",
    "    y_test=scale.inverse_transform(pd.DataFrame(y_test))\n",
    "\n",
    "    # Model score\n",
    "    from sklearn import metrics\n",
    "    print(\"R2 score\", metrics.r2_score(y_test, y_pred))"
   ]
  },
  {
   "cell_type": "code",
   "execution_count": 37,
   "id": "ead730e7",
   "metadata": {
    "execution": {
     "iopub.execute_input": "2022-09-22T21:51:31.635687Z",
     "iopub.status.busy": "2022-09-22T21:51:31.634923Z",
     "iopub.status.idle": "2022-09-22T21:51:31.642164Z",
     "shell.execute_reply": "2022-09-22T21:51:31.641021Z"
    },
    "papermill": {
     "duration": 0.027623,
     "end_time": "2022-09-22T21:51:31.644570",
     "exception": false,
     "start_time": "2022-09-22T21:51:31.616947",
     "status": "completed"
    },
    "tags": []
   },
   "outputs": [],
   "source": [
    "# AdaBoost\n",
    "\n",
    "def AdaBoost_func(data_func):\n",
    "    x_train, x_test, y_train, y_test, scale = preprocess1(data_func)\n",
    "\n",
    "    # Model Creation\n",
    "    from sklearn.ensemble import AdaBoostRegressor\n",
    "    model=AdaBoostRegressor()\n",
    "    model.fit(x_train, y_train)\n",
    "    y_pred=model.predict(x_test)\n",
    "    \n",
    "    y_pred=scale.inverse_transform(pd.DataFrame(y_pred))\n",
    "    y_test=scale.inverse_transform(pd.DataFrame(y_test))\n",
    "\n",
    "    # Model score\n",
    "    from sklearn import metrics\n",
    "    print(\"R2 score\", metrics.r2_score(y_test, y_pred))"
   ]
  },
  {
   "cell_type": "code",
   "execution_count": 38,
   "id": "2b48146b",
   "metadata": {
    "execution": {
     "iopub.execute_input": "2022-09-22T21:51:31.680104Z",
     "iopub.status.busy": "2022-09-22T21:51:31.679668Z",
     "iopub.status.idle": "2022-09-22T21:51:31.686579Z",
     "shell.execute_reply": "2022-09-22T21:51:31.685335Z"
    },
    "papermill": {
     "duration": 0.027726,
     "end_time": "2022-09-22T21:51:31.689070",
     "exception": false,
     "start_time": "2022-09-22T21:51:31.661344",
     "status": "completed"
    },
    "tags": []
   },
   "outputs": [],
   "source": [
    "# XGBoost\n",
    "\n",
    "def XGBoost_func(data_func):\n",
    "    x_train, x_test, y_train, y_test, scale = preprocess1(data_func)\n",
    "\n",
    "    # Model Creation\n",
    "    from xgboost import XGBRegressor\n",
    "    model=XGBRegressor()\n",
    "    model.fit(x_train, y_train)\n",
    "    y_pred=model.predict(x_test)\n",
    "    \n",
    "    y_pred=scale.inverse_transform(pd.DataFrame(y_pred))\n",
    "    y_test=scale.inverse_transform(pd.DataFrame(y_test))\n",
    "\n",
    "    # Model score\n",
    "    from sklearn import metrics\n",
    "    print(\"R2 score\", metrics.r2_score(y_test, y_pred))"
   ]
  },
  {
   "cell_type": "code",
   "execution_count": 39,
   "id": "ebebae14",
   "metadata": {
    "execution": {
     "iopub.execute_input": "2022-09-22T21:51:31.724874Z",
     "iopub.status.busy": "2022-09-22T21:51:31.724433Z",
     "iopub.status.idle": "2022-09-22T21:51:32.472180Z",
     "shell.execute_reply": "2022-09-22T21:51:32.470716Z"
    },
    "papermill": {
     "duration": 0.769803,
     "end_time": "2022-09-22T21:51:32.475887",
     "exception": false,
     "start_time": "2022-09-22T21:51:31.706084",
     "status": "completed"
    },
    "tags": []
   },
   "outputs": [
    {
     "name": "stdout",
     "output_type": "stream",
     "text": [
      "Liner Regression\n",
      "R2 score 0.6533238573951823\n",
      "R2 score 0.5368357750782101\n"
     ]
    }
   ],
   "source": [
    "print(\"Liner Regression\")\n",
    "Linear_Regression_func(data1)\n",
    "Linear_Regression_func(data2)"
   ]
  },
  {
   "cell_type": "code",
   "execution_count": 40,
   "id": "dbc519b7",
   "metadata": {
    "execution": {
     "iopub.execute_input": "2022-09-22T21:51:32.540277Z",
     "iopub.status.busy": "2022-09-22T21:51:32.539708Z",
     "iopub.status.idle": "2022-09-22T21:51:37.248004Z",
     "shell.execute_reply": "2022-09-22T21:51:37.246679Z"
    },
    "papermill": {
     "duration": 4.742651,
     "end_time": "2022-09-22T21:51:37.251461",
     "exception": false,
     "start_time": "2022-09-22T21:51:32.508810",
     "status": "completed"
    },
    "tags": []
   },
   "outputs": [
    {
     "name": "stdout",
     "output_type": "stream",
     "text": [
      "Linear Regression with cross-validation\n",
      "R2 score -7.033844797408498e+24\n",
      "R2 score -3.31861603931848e+23\n"
     ]
    }
   ],
   "source": [
    "print(\"Linear Regression with cross-validation\")\n",
    "Linear_Regression_func2(data1)\n",
    "Linear_Regression_func2(data2)"
   ]
  },
  {
   "cell_type": "code",
   "execution_count": 41,
   "id": "53e85079",
   "metadata": {
    "execution": {
     "iopub.execute_input": "2022-09-22T21:51:37.357408Z",
     "iopub.status.busy": "2022-09-22T21:51:37.355832Z",
     "iopub.status.idle": "2022-09-22T21:52:02.483601Z",
     "shell.execute_reply": "2022-09-22T21:52:02.481994Z"
    },
    "papermill": {
     "duration": 25.17566,
     "end_time": "2022-09-22T21:52:02.486277",
     "exception": false,
     "start_time": "2022-09-22T21:51:37.310617",
     "status": "completed"
    },
    "tags": []
   },
   "outputs": [
    {
     "name": "stdout",
     "output_type": "stream",
     "text": [
      "Random Forest Regression\n"
     ]
    },
    {
     "name": "stderr",
     "output_type": "stream",
     "text": [
      "/opt/conda/lib/python3.7/site-packages/ipykernel_launcher.py:9: DataConversionWarning: A column-vector y was passed when a 1d array was expected. Please change the shape of y to (n_samples,), for example using ravel().\n",
      "  if __name__ == \"__main__\":\n"
     ]
    },
    {
     "name": "stdout",
     "output_type": "stream",
     "text": [
      "R2 score 0.6745105752371985\n"
     ]
    },
    {
     "name": "stderr",
     "output_type": "stream",
     "text": [
      "/opt/conda/lib/python3.7/site-packages/ipykernel_launcher.py:9: DataConversionWarning: A column-vector y was passed when a 1d array was expected. Please change the shape of y to (n_samples,), for example using ravel().\n",
      "  if __name__ == \"__main__\":\n"
     ]
    },
    {
     "name": "stdout",
     "output_type": "stream",
     "text": [
      "R2 score 0.5060678437701635\n"
     ]
    }
   ],
   "source": [
    "print(\"Random Forest Regression\")\n",
    "RandomForest_func(data1)\n",
    "RandomForest_func(data2)"
   ]
  },
  {
   "cell_type": "code",
   "execution_count": 42,
   "id": "d3a0e42e",
   "metadata": {
    "execution": {
     "iopub.execute_input": "2022-09-22T21:52:02.523583Z",
     "iopub.status.busy": "2022-09-22T21:52:02.523126Z",
     "iopub.status.idle": "2022-09-22T21:52:04.449249Z",
     "shell.execute_reply": "2022-09-22T21:52:04.448215Z"
    },
    "papermill": {
     "duration": 1.948004,
     "end_time": "2022-09-22T21:52:04.452114",
     "exception": false,
     "start_time": "2022-09-22T21:52:02.504110",
     "status": "completed"
    },
    "tags": []
   },
   "outputs": [
    {
     "name": "stdout",
     "output_type": "stream",
     "text": [
      "AdaBoost Regression\n"
     ]
    },
    {
     "name": "stderr",
     "output_type": "stream",
     "text": [
      "/opt/conda/lib/python3.7/site-packages/sklearn/utils/validation.py:993: DataConversionWarning: A column-vector y was passed when a 1d array was expected. Please change the shape of y to (n_samples, ), for example using ravel().\n",
      "  y = column_or_1d(y, warn=True)\n"
     ]
    },
    {
     "name": "stdout",
     "output_type": "stream",
     "text": [
      "R2 score 0.3131017025113926\n"
     ]
    },
    {
     "name": "stderr",
     "output_type": "stream",
     "text": [
      "/opt/conda/lib/python3.7/site-packages/sklearn/utils/validation.py:993: DataConversionWarning: A column-vector y was passed when a 1d array was expected. Please change the shape of y to (n_samples, ), for example using ravel().\n",
      "  y = column_or_1d(y, warn=True)\n"
     ]
    },
    {
     "name": "stdout",
     "output_type": "stream",
     "text": [
      "R2 score 0.3654042345784666\n"
     ]
    }
   ],
   "source": [
    "print(\"AdaBoost Regression\")\n",
    "AdaBoost_func(data1)\n",
    "AdaBoost_func(data2)"
   ]
  },
  {
   "cell_type": "code",
   "execution_count": 43,
   "id": "57083b9f",
   "metadata": {
    "execution": {
     "iopub.execute_input": "2022-09-22T21:52:04.492468Z",
     "iopub.status.busy": "2022-09-22T21:52:04.492035Z",
     "iopub.status.idle": "2022-09-22T21:52:14.325064Z",
     "shell.execute_reply": "2022-09-22T21:52:14.323591Z"
    },
    "papermill": {
     "duration": 9.855487,
     "end_time": "2022-09-22T21:52:14.327731",
     "exception": false,
     "start_time": "2022-09-22T21:52:04.472244",
     "status": "completed"
    },
    "tags": []
   },
   "outputs": [
    {
     "name": "stdout",
     "output_type": "stream",
     "text": [
      "XGBoost Regression\n",
      "R2 score 0.7140494618018374\n",
      "R2 score 0.5499095762273485\n"
     ]
    }
   ],
   "source": [
    "print(\"XGBoost Regression\")\n",
    "XGBoost_func(data1)\n",
    "XGBoost_func(data2)"
   ]
  },
  {
   "cell_type": "code",
   "execution_count": null,
   "id": "5fdfdf57",
   "metadata": {
    "papermill": {
     "duration": 0.018041,
     "end_time": "2022-09-22T21:52:14.364414",
     "exception": false,
     "start_time": "2022-09-22T21:52:14.346373",
     "status": "completed"
    },
    "tags": []
   },
   "outputs": [],
   "source": []
  }
 ],
 "metadata": {
  "kernelspec": {
   "display_name": "Python 3",
   "language": "python",
   "name": "python3"
  },
  "language_info": {
   "codemirror_mode": {
    "name": "ipython",
    "version": 3
   },
   "file_extension": ".py",
   "mimetype": "text/x-python",
   "name": "python",
   "nbconvert_exporter": "python",
   "pygments_lexer": "ipython3",
   "version": "3.7.12"
  },
  "papermill": {
   "default_parameters": {},
   "duration": 58.366278,
   "end_time": "2022-09-22T21:52:15.205375",
   "environment_variables": {},
   "exception": null,
   "input_path": "__notebook__.ipynb",
   "output_path": "__notebook__.ipynb",
   "parameters": {},
   "start_time": "2022-09-22T21:51:16.839097",
   "version": "2.3.4"
  }
 },
 "nbformat": 4,
 "nbformat_minor": 5
}
